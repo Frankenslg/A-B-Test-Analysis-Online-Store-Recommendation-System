{
 "cells": [
  {
   "cell_type": "markdown",
   "metadata": {},
   "source": [
    "Hola Francisco!\n",
    "\n",
    "Soy **Patricio Requena** 👋. Es un placer ser el revisor de tu proyecto el día de hoy!\n",
    "\n",
    "Revisaré tu proyecto detenidamente con el objetivo de ayudarte a mejorar y perfeccionar tus habilidades. Durante mi revisión, identificaré áreas donde puedas hacer mejoras en tu código, señalando específicamente qué y cómo podrías ajustar para optimizar el rendimiento y la claridad de tu proyecto. Además, es importante para mí destacar los aspectos que has manejado excepcionalmente bien. Reconocer tus fortalezas te ayudará a entender qué técnicas y métodos están funcionando a tu favor y cómo puedes aplicarlos en futuras tareas. \n",
    "\n",
    "_**Recuerda que al final de este notebook encontrarás un comentario general de mi parte**_, empecemos!\n",
    "\n",
    "Encontrarás mis comentarios dentro de cajas verdes, amarillas o rojas, ⚠️ **por favor, no muevas, modifiques o borres mis comentarios** ⚠️:\n",
    "\n",
    "\n",
    "<div class=\"alert alert-block alert-success\">\n",
    "<b>Comentario del revisor</b> <a class=“tocSkip”></a>\n",
    "Si todo está perfecto.\n",
    "</div>\n",
    "\n",
    "<div class=\"alert alert-block alert-warning\">\n",
    "<b>Comentario del revisor</b> <a class=“tocSkip”></a>\n",
    "Si tu código está bien pero se puede mejorar o hay algún detalle que le hace falta.\n",
    "</div>\n",
    "\n",
    "<div class=\"alert alert-block alert-danger\">\n",
    "<b>Comentario del revisor</b> <a class=“tocSkip”></a>\n",
    "Si de pronto hace falta algo o existe algún problema con tu código o conclusiones.\n",
    "</div>\n",
    "\n",
    "Puedes responderme de esta forma:\n",
    "<div class=\"alert alert-block alert-info\">\n",
    "<b>Respuesta del estudiante</b> <a class=“tocSkip”></a>\n",
    "</div>"
   ]
  },
  {
   "cell_type": "markdown",
   "metadata": {},
   "source": [
    "# Objetivos del estudio"
   ]
  },
  {
   "cell_type": "markdown",
   "metadata": {},
   "source": [
    "El objetivo de este análisis es evaluar los resultados de una prueba A/B lanzada por una tienda en línea internacional para introducir un sistema de recomendaciones mejorado. Se busca determinar si el sistema mejora la conversión de usuarios en tres etapas del embudo de compra:\n",
    "\n",
    "product_page: Visitas a la página del producto.\n",
    "\n",
    "product_cart: Agregar productos al carrito.\n",
    "\n",
    "purchase: Realización de una compra.\n",
    "\n",
    "El propósito es comprobar si el nuevo sistema de recomendaciones genera al menos un 10% de aumento en cada una de las etapas del embudo en comparación con el embudo actual."
   ]
  },
  {
   "cell_type": "markdown",
   "metadata": {},
   "source": [
    "# Bibliotecas"
   ]
  },
  {
   "cell_type": "code",
   "execution_count": 77,
   "metadata": {},
   "outputs": [],
   "source": [
    "import pandas as pd\n",
    "import numpy as np\n",
    "from statsmodels.stats.proportion import proportions_ztest\n",
    "import matplotlib.pyplot as plt\n",
    "import seaborn as sns"
   ]
  },
  {
   "cell_type": "markdown",
   "metadata": {},
   "source": [
    "# Preprocesamiento de datos"
   ]
  },
  {
   "cell_type": "markdown",
   "metadata": {},
   "source": [
    "# Cargar y revisar los datos"
   ]
  },
  {
   "cell_type": "markdown",
   "metadata": {},
   "source": [
    "Cargaremos los datasets que contienen información sobre los usuarios nuevos, los eventos de usuario, y los participantes de la prueba, junto con los eventos de marketing que pudieran influir en el comportamiento de los usuarios."
   ]
  },
  {
   "cell_type": "markdown",
   "metadata": {},
   "source": [
    "## Cargar datasets"
   ]
  },
  {
   "cell_type": "code",
   "execution_count": 78,
   "metadata": {},
   "outputs": [],
   "source": [
    "marketing_events = pd.read_csv('/datasets/ab_project_marketing_events_us.csv')\n",
    "new_users = pd.read_csv('/datasets/final_ab_new_users_upd_us.csv')\n",
    "events = pd.read_csv('/datasets/final_ab_events_upd_us.csv')\n",
    "participants = pd.read_csv('/datasets/final_ab_participants_upd_us.csv')"
   ]
  },
  {
   "cell_type": "markdown",
   "metadata": {},
   "source": [
    "<div class=\"alert alert-block alert-success\">\n",
    "<b>Comentario del revisor (1ra Iteracion)</b> <a class=“tocSkip”></a>\n",
    "\n",
    "Perfecto! Buen trabajo con las librerías y carga de datos\n",
    "</div>"
   ]
  },
  {
   "cell_type": "markdown",
   "metadata": {},
   "source": [
    "## Revisar la estructura de cada dataset"
   ]
  },
  {
   "cell_type": "code",
   "execution_count": 79,
   "metadata": {},
   "outputs": [
    {
     "name": "stdout",
     "output_type": "stream",
     "text": [
      "<class 'pandas.core.frame.DataFrame'>\n",
      "RangeIndex: 14 entries, 0 to 13\n",
      "Data columns (total 4 columns):\n",
      " #   Column     Non-Null Count  Dtype \n",
      "---  ------     --------------  ----- \n",
      " 0   name       14 non-null     object\n",
      " 1   regions    14 non-null     object\n",
      " 2   start_dt   14 non-null     object\n",
      " 3   finish_dt  14 non-null     object\n",
      "dtypes: object(4)\n",
      "memory usage: 576.0+ bytes\n"
     ]
    }
   ],
   "source": [
    "marketing_events.info()"
   ]
  },
  {
   "cell_type": "code",
   "execution_count": 80,
   "metadata": {},
   "outputs": [
    {
     "name": "stdout",
     "output_type": "stream",
     "text": [
      "<class 'pandas.core.frame.DataFrame'>\n",
      "RangeIndex: 58703 entries, 0 to 58702\n",
      "Data columns (total 4 columns):\n",
      " #   Column      Non-Null Count  Dtype \n",
      "---  ------      --------------  ----- \n",
      " 0   user_id     58703 non-null  object\n",
      " 1   first_date  58703 non-null  object\n",
      " 2   region      58703 non-null  object\n",
      " 3   device      58703 non-null  object\n",
      "dtypes: object(4)\n",
      "memory usage: 1.8+ MB\n"
     ]
    }
   ],
   "source": [
    "new_users.info()"
   ]
  },
  {
   "cell_type": "code",
   "execution_count": 81,
   "metadata": {},
   "outputs": [
    {
     "name": "stdout",
     "output_type": "stream",
     "text": [
      "<class 'pandas.core.frame.DataFrame'>\n",
      "RangeIndex: 423761 entries, 0 to 423760\n",
      "Data columns (total 4 columns):\n",
      " #   Column      Non-Null Count   Dtype  \n",
      "---  ------      --------------   -----  \n",
      " 0   user_id     423761 non-null  object \n",
      " 1   event_dt    423761 non-null  object \n",
      " 2   event_name  423761 non-null  object \n",
      " 3   details     60314 non-null   float64\n",
      "dtypes: float64(1), object(3)\n",
      "memory usage: 12.9+ MB\n"
     ]
    }
   ],
   "source": [
    "events.info()"
   ]
  },
  {
   "cell_type": "code",
   "execution_count": 82,
   "metadata": {},
   "outputs": [
    {
     "name": "stdout",
     "output_type": "stream",
     "text": [
      "<class 'pandas.core.frame.DataFrame'>\n",
      "RangeIndex: 14525 entries, 0 to 14524\n",
      "Data columns (total 3 columns):\n",
      " #   Column   Non-Null Count  Dtype \n",
      "---  ------   --------------  ----- \n",
      " 0   user_id  14525 non-null  object\n",
      " 1   group    14525 non-null  object\n",
      " 2   ab_test  14525 non-null  object\n",
      "dtypes: object(3)\n",
      "memory usage: 340.6+ KB\n"
     ]
    }
   ],
   "source": [
    "participants.info()"
   ]
  },
  {
   "cell_type": "markdown",
   "metadata": {},
   "source": [
    "## Mostrar las primeras filas de cada dataset"
   ]
  },
  {
   "cell_type": "code",
   "execution_count": 83,
   "metadata": {},
   "outputs": [
    {
     "data": {
      "text/html": [
       "<div>\n",
       "<style scoped>\n",
       "    .dataframe tbody tr th:only-of-type {\n",
       "        vertical-align: middle;\n",
       "    }\n",
       "\n",
       "    .dataframe tbody tr th {\n",
       "        vertical-align: top;\n",
       "    }\n",
       "\n",
       "    .dataframe thead th {\n",
       "        text-align: right;\n",
       "    }\n",
       "</style>\n",
       "<table border=\"1\" class=\"dataframe\">\n",
       "  <thead>\n",
       "    <tr style=\"text-align: right;\">\n",
       "      <th></th>\n",
       "      <th>name</th>\n",
       "      <th>regions</th>\n",
       "      <th>start_dt</th>\n",
       "      <th>finish_dt</th>\n",
       "    </tr>\n",
       "  </thead>\n",
       "  <tbody>\n",
       "    <tr>\n",
       "      <th>0</th>\n",
       "      <td>Christmas&amp;New Year Promo</td>\n",
       "      <td>EU, N.America</td>\n",
       "      <td>2020-12-25</td>\n",
       "      <td>2021-01-03</td>\n",
       "    </tr>\n",
       "    <tr>\n",
       "      <th>1</th>\n",
       "      <td>St. Valentine's Day Giveaway</td>\n",
       "      <td>EU, CIS, APAC, N.America</td>\n",
       "      <td>2020-02-14</td>\n",
       "      <td>2020-02-16</td>\n",
       "    </tr>\n",
       "    <tr>\n",
       "      <th>2</th>\n",
       "      <td>St. Patric's Day Promo</td>\n",
       "      <td>EU, N.America</td>\n",
       "      <td>2020-03-17</td>\n",
       "      <td>2020-03-19</td>\n",
       "    </tr>\n",
       "    <tr>\n",
       "      <th>3</th>\n",
       "      <td>Easter Promo</td>\n",
       "      <td>EU, CIS, APAC, N.America</td>\n",
       "      <td>2020-04-12</td>\n",
       "      <td>2020-04-19</td>\n",
       "    </tr>\n",
       "    <tr>\n",
       "      <th>4</th>\n",
       "      <td>4th of July Promo</td>\n",
       "      <td>N.America</td>\n",
       "      <td>2020-07-04</td>\n",
       "      <td>2020-07-11</td>\n",
       "    </tr>\n",
       "  </tbody>\n",
       "</table>\n",
       "</div>"
      ],
      "text/plain": [
       "                           name                   regions    start_dt  \\\n",
       "0      Christmas&New Year Promo             EU, N.America  2020-12-25   \n",
       "1  St. Valentine's Day Giveaway  EU, CIS, APAC, N.America  2020-02-14   \n",
       "2        St. Patric's Day Promo             EU, N.America  2020-03-17   \n",
       "3                  Easter Promo  EU, CIS, APAC, N.America  2020-04-12   \n",
       "4             4th of July Promo                 N.America  2020-07-04   \n",
       "\n",
       "    finish_dt  \n",
       "0  2021-01-03  \n",
       "1  2020-02-16  \n",
       "2  2020-03-19  \n",
       "3  2020-04-19  \n",
       "4  2020-07-11  "
      ]
     },
     "execution_count": 83,
     "metadata": {},
     "output_type": "execute_result"
    }
   ],
   "source": [
    "marketing_events.head()"
   ]
  },
  {
   "cell_type": "code",
   "execution_count": 84,
   "metadata": {},
   "outputs": [
    {
     "data": {
      "text/html": [
       "<div>\n",
       "<style scoped>\n",
       "    .dataframe tbody tr th:only-of-type {\n",
       "        vertical-align: middle;\n",
       "    }\n",
       "\n",
       "    .dataframe tbody tr th {\n",
       "        vertical-align: top;\n",
       "    }\n",
       "\n",
       "    .dataframe thead th {\n",
       "        text-align: right;\n",
       "    }\n",
       "</style>\n",
       "<table border=\"1\" class=\"dataframe\">\n",
       "  <thead>\n",
       "    <tr style=\"text-align: right;\">\n",
       "      <th></th>\n",
       "      <th>user_id</th>\n",
       "      <th>first_date</th>\n",
       "      <th>region</th>\n",
       "      <th>device</th>\n",
       "    </tr>\n",
       "  </thead>\n",
       "  <tbody>\n",
       "    <tr>\n",
       "      <th>0</th>\n",
       "      <td>D72A72121175D8BE</td>\n",
       "      <td>2020-12-07</td>\n",
       "      <td>EU</td>\n",
       "      <td>PC</td>\n",
       "    </tr>\n",
       "    <tr>\n",
       "      <th>1</th>\n",
       "      <td>F1C668619DFE6E65</td>\n",
       "      <td>2020-12-07</td>\n",
       "      <td>N.America</td>\n",
       "      <td>Android</td>\n",
       "    </tr>\n",
       "    <tr>\n",
       "      <th>2</th>\n",
       "      <td>2E1BF1D4C37EA01F</td>\n",
       "      <td>2020-12-07</td>\n",
       "      <td>EU</td>\n",
       "      <td>PC</td>\n",
       "    </tr>\n",
       "    <tr>\n",
       "      <th>3</th>\n",
       "      <td>50734A22C0C63768</td>\n",
       "      <td>2020-12-07</td>\n",
       "      <td>EU</td>\n",
       "      <td>iPhone</td>\n",
       "    </tr>\n",
       "    <tr>\n",
       "      <th>4</th>\n",
       "      <td>E1BDDCE0DAFA2679</td>\n",
       "      <td>2020-12-07</td>\n",
       "      <td>N.America</td>\n",
       "      <td>iPhone</td>\n",
       "    </tr>\n",
       "  </tbody>\n",
       "</table>\n",
       "</div>"
      ],
      "text/plain": [
       "            user_id  first_date     region   device\n",
       "0  D72A72121175D8BE  2020-12-07         EU       PC\n",
       "1  F1C668619DFE6E65  2020-12-07  N.America  Android\n",
       "2  2E1BF1D4C37EA01F  2020-12-07         EU       PC\n",
       "3  50734A22C0C63768  2020-12-07         EU   iPhone\n",
       "4  E1BDDCE0DAFA2679  2020-12-07  N.America   iPhone"
      ]
     },
     "execution_count": 84,
     "metadata": {},
     "output_type": "execute_result"
    }
   ],
   "source": [
    "new_users.head()"
   ]
  },
  {
   "cell_type": "code",
   "execution_count": 85,
   "metadata": {},
   "outputs": [
    {
     "data": {
      "text/html": [
       "<div>\n",
       "<style scoped>\n",
       "    .dataframe tbody tr th:only-of-type {\n",
       "        vertical-align: middle;\n",
       "    }\n",
       "\n",
       "    .dataframe tbody tr th {\n",
       "        vertical-align: top;\n",
       "    }\n",
       "\n",
       "    .dataframe thead th {\n",
       "        text-align: right;\n",
       "    }\n",
       "</style>\n",
       "<table border=\"1\" class=\"dataframe\">\n",
       "  <thead>\n",
       "    <tr style=\"text-align: right;\">\n",
       "      <th></th>\n",
       "      <th>user_id</th>\n",
       "      <th>event_dt</th>\n",
       "      <th>event_name</th>\n",
       "      <th>details</th>\n",
       "    </tr>\n",
       "  </thead>\n",
       "  <tbody>\n",
       "    <tr>\n",
       "      <th>0</th>\n",
       "      <td>E1BDDCE0DAFA2679</td>\n",
       "      <td>2020-12-07 20:22:03</td>\n",
       "      <td>purchase</td>\n",
       "      <td>99.99</td>\n",
       "    </tr>\n",
       "    <tr>\n",
       "      <th>1</th>\n",
       "      <td>7B6452F081F49504</td>\n",
       "      <td>2020-12-07 09:22:53</td>\n",
       "      <td>purchase</td>\n",
       "      <td>9.99</td>\n",
       "    </tr>\n",
       "    <tr>\n",
       "      <th>2</th>\n",
       "      <td>9CD9F34546DF254C</td>\n",
       "      <td>2020-12-07 12:59:29</td>\n",
       "      <td>purchase</td>\n",
       "      <td>4.99</td>\n",
       "    </tr>\n",
       "    <tr>\n",
       "      <th>3</th>\n",
       "      <td>96F27A054B191457</td>\n",
       "      <td>2020-12-07 04:02:40</td>\n",
       "      <td>purchase</td>\n",
       "      <td>4.99</td>\n",
       "    </tr>\n",
       "    <tr>\n",
       "      <th>4</th>\n",
       "      <td>1FD7660FDF94CA1F</td>\n",
       "      <td>2020-12-07 10:15:09</td>\n",
       "      <td>purchase</td>\n",
       "      <td>4.99</td>\n",
       "    </tr>\n",
       "  </tbody>\n",
       "</table>\n",
       "</div>"
      ],
      "text/plain": [
       "            user_id             event_dt event_name  details\n",
       "0  E1BDDCE0DAFA2679  2020-12-07 20:22:03   purchase    99.99\n",
       "1  7B6452F081F49504  2020-12-07 09:22:53   purchase     9.99\n",
       "2  9CD9F34546DF254C  2020-12-07 12:59:29   purchase     4.99\n",
       "3  96F27A054B191457  2020-12-07 04:02:40   purchase     4.99\n",
       "4  1FD7660FDF94CA1F  2020-12-07 10:15:09   purchase     4.99"
      ]
     },
     "execution_count": 85,
     "metadata": {},
     "output_type": "execute_result"
    }
   ],
   "source": [
    "events.head()"
   ]
  },
  {
   "cell_type": "code",
   "execution_count": 86,
   "metadata": {},
   "outputs": [
    {
     "data": {
      "text/html": [
       "<div>\n",
       "<style scoped>\n",
       "    .dataframe tbody tr th:only-of-type {\n",
       "        vertical-align: middle;\n",
       "    }\n",
       "\n",
       "    .dataframe tbody tr th {\n",
       "        vertical-align: top;\n",
       "    }\n",
       "\n",
       "    .dataframe thead th {\n",
       "        text-align: right;\n",
       "    }\n",
       "</style>\n",
       "<table border=\"1\" class=\"dataframe\">\n",
       "  <thead>\n",
       "    <tr style=\"text-align: right;\">\n",
       "      <th></th>\n",
       "      <th>user_id</th>\n",
       "      <th>group</th>\n",
       "      <th>ab_test</th>\n",
       "    </tr>\n",
       "  </thead>\n",
       "  <tbody>\n",
       "    <tr>\n",
       "      <th>0</th>\n",
       "      <td>D1ABA3E2887B6A73</td>\n",
       "      <td>A</td>\n",
       "      <td>recommender_system_test</td>\n",
       "    </tr>\n",
       "    <tr>\n",
       "      <th>1</th>\n",
       "      <td>A7A3664BD6242119</td>\n",
       "      <td>A</td>\n",
       "      <td>recommender_system_test</td>\n",
       "    </tr>\n",
       "    <tr>\n",
       "      <th>2</th>\n",
       "      <td>DABC14FDDFADD29E</td>\n",
       "      <td>A</td>\n",
       "      <td>recommender_system_test</td>\n",
       "    </tr>\n",
       "    <tr>\n",
       "      <th>3</th>\n",
       "      <td>04988C5DF189632E</td>\n",
       "      <td>A</td>\n",
       "      <td>recommender_system_test</td>\n",
       "    </tr>\n",
       "    <tr>\n",
       "      <th>4</th>\n",
       "      <td>4FF2998A348C484F</td>\n",
       "      <td>A</td>\n",
       "      <td>recommender_system_test</td>\n",
       "    </tr>\n",
       "  </tbody>\n",
       "</table>\n",
       "</div>"
      ],
      "text/plain": [
       "            user_id group                  ab_test\n",
       "0  D1ABA3E2887B6A73     A  recommender_system_test\n",
       "1  A7A3664BD6242119     A  recommender_system_test\n",
       "2  DABC14FDDFADD29E     A  recommender_system_test\n",
       "3  04988C5DF189632E     A  recommender_system_test\n",
       "4  4FF2998A348C484F     A  recommender_system_test"
      ]
     },
     "execution_count": 86,
     "metadata": {},
     "output_type": "execute_result"
    }
   ],
   "source": [
    "participants.head()"
   ]
  },
  {
   "cell_type": "markdown",
   "metadata": {},
   "source": [
    "# Conversión de tipos de datos y verificación de valores nulos y duplicados"
   ]
  },
  {
   "cell_type": "markdown",
   "metadata": {},
   "source": [
    "Verificamos si los tipos de datos son correctos y si hay valores nulos o duplicados que requieran limpieza."
   ]
  },
  {
   "cell_type": "markdown",
   "metadata": {},
   "source": [
    "## Verificar valores nulos"
   ]
  },
  {
   "cell_type": "code",
   "execution_count": 87,
   "metadata": {},
   "outputs": [
    {
     "data": {
      "text/plain": [
       "name         0\n",
       "regions      0\n",
       "start_dt     0\n",
       "finish_dt    0\n",
       "dtype: int64"
      ]
     },
     "execution_count": 87,
     "metadata": {},
     "output_type": "execute_result"
    }
   ],
   "source": [
    "marketing_events.isnull().sum()"
   ]
  },
  {
   "cell_type": "code",
   "execution_count": 88,
   "metadata": {},
   "outputs": [
    {
     "data": {
      "text/plain": [
       "user_id       0\n",
       "first_date    0\n",
       "region        0\n",
       "device        0\n",
       "dtype: int64"
      ]
     },
     "execution_count": 88,
     "metadata": {},
     "output_type": "execute_result"
    }
   ],
   "source": [
    "new_users.isnull().sum()"
   ]
  },
  {
   "cell_type": "code",
   "execution_count": 89,
   "metadata": {},
   "outputs": [
    {
     "data": {
      "text/plain": [
       "user_id            0\n",
       "event_dt           0\n",
       "event_name         0\n",
       "details       363447\n",
       "dtype: int64"
      ]
     },
     "execution_count": 89,
     "metadata": {},
     "output_type": "execute_result"
    }
   ],
   "source": [
    "events.isnull().sum()"
   ]
  },
  {
   "cell_type": "code",
   "execution_count": 90,
   "metadata": {},
   "outputs": [
    {
     "data": {
      "text/plain": [
       "user_id    0\n",
       "group      0\n",
       "ab_test    0\n",
       "dtype: int64"
      ]
     },
     "execution_count": 90,
     "metadata": {},
     "output_type": "execute_result"
    }
   ],
   "source": [
    "participants.isnull().sum()"
   ]
  },
  {
   "cell_type": "markdown",
   "metadata": {},
   "source": [
    "## Verificar valores duplicados"
   ]
  },
  {
   "cell_type": "code",
   "execution_count": 91,
   "metadata": {},
   "outputs": [
    {
     "data": {
      "text/plain": [
       "0"
      ]
     },
     "execution_count": 91,
     "metadata": {},
     "output_type": "execute_result"
    }
   ],
   "source": [
    "marketing_events.duplicated().sum()"
   ]
  },
  {
   "cell_type": "code",
   "execution_count": 92,
   "metadata": {},
   "outputs": [
    {
     "data": {
      "text/plain": [
       "0"
      ]
     },
     "execution_count": 92,
     "metadata": {},
     "output_type": "execute_result"
    }
   ],
   "source": [
    "new_users.duplicated().sum()"
   ]
  },
  {
   "cell_type": "code",
   "execution_count": 93,
   "metadata": {},
   "outputs": [
    {
     "data": {
      "text/plain": [
       "0"
      ]
     },
     "execution_count": 93,
     "metadata": {},
     "output_type": "execute_result"
    }
   ],
   "source": [
    "events.duplicated().sum()"
   ]
  },
  {
   "cell_type": "code",
   "execution_count": 94,
   "metadata": {},
   "outputs": [
    {
     "data": {
      "text/plain": [
       "0"
      ]
     },
     "execution_count": 94,
     "metadata": {},
     "output_type": "execute_result"
    }
   ],
   "source": [
    "participants.duplicated().sum()"
   ]
  },
  {
   "cell_type": "markdown",
   "metadata": {},
   "source": [
    "# Conversión de columnas de fecha a formato datetime"
   ]
  },
  {
   "cell_type": "code",
   "execution_count": 95,
   "metadata": {},
   "outputs": [],
   "source": [
    "new_users['first_date'] = pd.to_datetime(new_users['first_date'])\n",
    "events['event_dt'] = pd.to_datetime(events['event_dt'])\n",
    "marketing_events['start_dt'] = pd.to_datetime(marketing_events['start_dt'])\n",
    "marketing_events['finish_dt'] = pd.to_datetime(marketing_events['finish_dt'])"
   ]
  },
  {
   "cell_type": "code",
   "execution_count": 96,
   "metadata": {},
   "outputs": [
    {
     "data": {
      "text/plain": [
       "0   2020-12-25\n",
       "1   2020-02-14\n",
       "2   2020-03-17\n",
       "3   2020-04-12\n",
       "4   2020-07-04\n",
       "Name: start_dt, dtype: datetime64[ns]"
      ]
     },
     "execution_count": 96,
     "metadata": {},
     "output_type": "execute_result"
    }
   ],
   "source": [
    "marketing_events['start_dt'].head()"
   ]
  },
  {
   "cell_type": "code",
   "execution_count": 97,
   "metadata": {},
   "outputs": [
    {
     "data": {
      "text/plain": [
       "0   2021-01-03\n",
       "1   2020-02-16\n",
       "2   2020-03-19\n",
       "3   2020-04-19\n",
       "4   2020-07-11\n",
       "Name: finish_dt, dtype: datetime64[ns]"
      ]
     },
     "execution_count": 97,
     "metadata": {},
     "output_type": "execute_result"
    }
   ],
   "source": [
    "marketing_events['finish_dt'].head()"
   ]
  },
  {
   "cell_type": "markdown",
   "metadata": {},
   "source": [
    "<div class=\"alert alert-block alert-success\">\n",
    "<b>Comentario del revisor (1ra Iteracion)</b> <a class=“tocSkip”></a>\n",
    "\n",
    "Muy buen trabajo con la transformación de datos y revisando los datos ausentes, un dataset limpio es clave para una buena toma de decisiones en un experimento.\n",
    "</div>"
   ]
  },
  {
   "cell_type": "code",
   "execution_count": null,
   "metadata": {
    "scrolled": true
   },
   "outputs": [],
   "source": []
  },
  {
   "cell_type": "markdown",
   "metadata": {},
   "source": [
    "<div class=\"alert alert-block alert-danger\">\n",
    "<b>Comentario del revisor (1ra Iteracion)</b> <a class=“tocSkip”></a>\n",
    "\n",
    "Esta celda no se ejecuta debido a que no tienes declaradas antes las variables que estás queriendo usar\n",
    "</div>"
   ]
  },
  {
   "cell_type": "markdown",
   "metadata": {},
   "source": [
    "<div class=\"alert alert-block alert-success\">\n",
    "<b>Comentario del revisor (2da Iteracion)</b> <a class=“tocSkip”></a>\n",
    "\n",
    "Buen trabajo con el cambio!\n",
    "</div>"
   ]
  },
  {
   "cell_type": "markdown",
   "metadata": {},
   "source": [
    "# Análisis Exploratorio de Datos (EDA)"
   ]
  },
  {
   "cell_type": "markdown",
   "metadata": {},
   "source": [
    "# Evaluar la conversión en las diferentes etapas del embudo"
   ]
  },
  {
   "cell_type": "markdown",
   "metadata": {},
   "source": [
    "Verificamos la tasa de conversión de los usuarios en las tres etapas del embudo: vistas de la página del producto, agregar productos al carrito, y realizar una compra. Para esto, identificamos cuántos usuarios pasan por cada etapa."
   ]
  },
  {
   "cell_type": "markdown",
   "metadata": {},
   "source": [
    "## Filtrar los eventos correspondientes a cada etapa del embudo"
   ]
  },
  {
   "cell_type": "code",
   "execution_count": 98,
   "metadata": {},
   "outputs": [],
   "source": [
    "page_views = events[events['event_name'] == 'product_page']\n",
    "cart_additions = events[events['event_name'] == 'product_cart']\n",
    "purchases = events[events['event_name'] == 'purchase']"
   ]
  },
  {
   "cell_type": "code",
   "execution_count": 99,
   "metadata": {},
   "outputs": [
    {
     "data": {
      "text/html": [
       "<div>\n",
       "<style scoped>\n",
       "    .dataframe tbody tr th:only-of-type {\n",
       "        vertical-align: middle;\n",
       "    }\n",
       "\n",
       "    .dataframe tbody tr th {\n",
       "        vertical-align: top;\n",
       "    }\n",
       "\n",
       "    .dataframe thead th {\n",
       "        text-align: right;\n",
       "    }\n",
       "</style>\n",
       "<table border=\"1\" class=\"dataframe\">\n",
       "  <thead>\n",
       "    <tr style=\"text-align: right;\">\n",
       "      <th></th>\n",
       "      <th>user_id</th>\n",
       "      <th>event_dt</th>\n",
       "      <th>event_name</th>\n",
       "      <th>details</th>\n",
       "    </tr>\n",
       "  </thead>\n",
       "  <tbody>\n",
       "    <tr>\n",
       "      <th>120434</th>\n",
       "      <td>D72A72121175D8BE</td>\n",
       "      <td>2020-12-07 21:52:10</td>\n",
       "      <td>product_page</td>\n",
       "      <td>NaN</td>\n",
       "    </tr>\n",
       "    <tr>\n",
       "      <th>120435</th>\n",
       "      <td>F1C668619DFE6E65</td>\n",
       "      <td>2020-12-07 16:38:09</td>\n",
       "      <td>product_page</td>\n",
       "      <td>NaN</td>\n",
       "    </tr>\n",
       "    <tr>\n",
       "      <th>120436</th>\n",
       "      <td>2E1BF1D4C37EA01F</td>\n",
       "      <td>2020-12-07 09:05:46</td>\n",
       "      <td>product_page</td>\n",
       "      <td>NaN</td>\n",
       "    </tr>\n",
       "    <tr>\n",
       "      <th>120437</th>\n",
       "      <td>50734A22C0C63768</td>\n",
       "      <td>2020-12-07 13:24:02</td>\n",
       "      <td>product_page</td>\n",
       "      <td>NaN</td>\n",
       "    </tr>\n",
       "    <tr>\n",
       "      <th>120438</th>\n",
       "      <td>137119F5A9E69421</td>\n",
       "      <td>2020-12-07 14:13:58</td>\n",
       "      <td>product_page</td>\n",
       "      <td>NaN</td>\n",
       "    </tr>\n",
       "    <tr>\n",
       "      <th>...</th>\n",
       "      <td>...</td>\n",
       "      <td>...</td>\n",
       "      <td>...</td>\n",
       "      <td>...</td>\n",
       "    </tr>\n",
       "    <tr>\n",
       "      <th>241291</th>\n",
       "      <td>2761935C2DD2794F</td>\n",
       "      <td>2020-12-30 16:51:31</td>\n",
       "      <td>product_page</td>\n",
       "      <td>NaN</td>\n",
       "    </tr>\n",
       "    <tr>\n",
       "      <th>241292</th>\n",
       "      <td>D1553B56FFA8974B</td>\n",
       "      <td>2020-12-30 03:15:35</td>\n",
       "      <td>product_page</td>\n",
       "      <td>NaN</td>\n",
       "    </tr>\n",
       "    <tr>\n",
       "      <th>241293</th>\n",
       "      <td>245E85F65C358E08</td>\n",
       "      <td>2020-12-30 19:35:55</td>\n",
       "      <td>product_page</td>\n",
       "      <td>NaN</td>\n",
       "    </tr>\n",
       "    <tr>\n",
       "      <th>241294</th>\n",
       "      <td>F80C9BDDEA02E53C</td>\n",
       "      <td>2020-12-30 09:53:40</td>\n",
       "      <td>product_page</td>\n",
       "      <td>NaN</td>\n",
       "    </tr>\n",
       "    <tr>\n",
       "      <th>241295</th>\n",
       "      <td>7AEC61159B672CC5</td>\n",
       "      <td>2020-12-30 11:36:13</td>\n",
       "      <td>product_page</td>\n",
       "      <td>NaN</td>\n",
       "    </tr>\n",
       "  </tbody>\n",
       "</table>\n",
       "<p>120862 rows × 4 columns</p>\n",
       "</div>"
      ],
      "text/plain": [
       "                 user_id            event_dt    event_name  details\n",
       "120434  D72A72121175D8BE 2020-12-07 21:52:10  product_page      NaN\n",
       "120435  F1C668619DFE6E65 2020-12-07 16:38:09  product_page      NaN\n",
       "120436  2E1BF1D4C37EA01F 2020-12-07 09:05:46  product_page      NaN\n",
       "120437  50734A22C0C63768 2020-12-07 13:24:02  product_page      NaN\n",
       "120438  137119F5A9E69421 2020-12-07 14:13:58  product_page      NaN\n",
       "...                  ...                 ...           ...      ...\n",
       "241291  2761935C2DD2794F 2020-12-30 16:51:31  product_page      NaN\n",
       "241292  D1553B56FFA8974B 2020-12-30 03:15:35  product_page      NaN\n",
       "241293  245E85F65C358E08 2020-12-30 19:35:55  product_page      NaN\n",
       "241294  F80C9BDDEA02E53C 2020-12-30 09:53:40  product_page      NaN\n",
       "241295  7AEC61159B672CC5 2020-12-30 11:36:13  product_page      NaN\n",
       "\n",
       "[120862 rows x 4 columns]"
      ]
     },
     "execution_count": 99,
     "metadata": {},
     "output_type": "execute_result"
    }
   ],
   "source": [
    "page_views"
   ]
  },
  {
   "cell_type": "code",
   "execution_count": 100,
   "metadata": {},
   "outputs": [
    {
     "data": {
      "text/html": [
       "<div>\n",
       "<style scoped>\n",
       "    .dataframe tbody tr th:only-of-type {\n",
       "        vertical-align: middle;\n",
       "    }\n",
       "\n",
       "    .dataframe tbody tr th {\n",
       "        vertical-align: top;\n",
       "    }\n",
       "\n",
       "    .dataframe thead th {\n",
       "        text-align: right;\n",
       "    }\n",
       "</style>\n",
       "<table border=\"1\" class=\"dataframe\">\n",
       "  <thead>\n",
       "    <tr style=\"text-align: right;\">\n",
       "      <th></th>\n",
       "      <th>user_id</th>\n",
       "      <th>event_dt</th>\n",
       "      <th>event_name</th>\n",
       "      <th>details</th>\n",
       "    </tr>\n",
       "  </thead>\n",
       "  <tbody>\n",
       "    <tr>\n",
       "      <th>60314</th>\n",
       "      <td>2E1BF1D4C37EA01F</td>\n",
       "      <td>2020-12-07 09:05:47</td>\n",
       "      <td>product_cart</td>\n",
       "      <td>NaN</td>\n",
       "    </tr>\n",
       "    <tr>\n",
       "      <th>60315</th>\n",
       "      <td>50734A22C0C63768</td>\n",
       "      <td>2020-12-07 13:24:03</td>\n",
       "      <td>product_cart</td>\n",
       "      <td>NaN</td>\n",
       "    </tr>\n",
       "    <tr>\n",
       "      <th>60316</th>\n",
       "      <td>5EB159DA9DC94DBA</td>\n",
       "      <td>2020-12-07 22:54:02</td>\n",
       "      <td>product_cart</td>\n",
       "      <td>NaN</td>\n",
       "    </tr>\n",
       "    <tr>\n",
       "      <th>60317</th>\n",
       "      <td>084A22B980BA8169</td>\n",
       "      <td>2020-12-07 15:25:55</td>\n",
       "      <td>product_cart</td>\n",
       "      <td>NaN</td>\n",
       "    </tr>\n",
       "    <tr>\n",
       "      <th>60318</th>\n",
       "      <td>0FC21E6F8FAA8DEC</td>\n",
       "      <td>2020-12-07 06:56:27</td>\n",
       "      <td>product_cart</td>\n",
       "      <td>NaN</td>\n",
       "    </tr>\n",
       "    <tr>\n",
       "      <th>...</th>\n",
       "      <td>...</td>\n",
       "      <td>...</td>\n",
       "      <td>...</td>\n",
       "      <td>...</td>\n",
       "    </tr>\n",
       "    <tr>\n",
       "      <th>120429</th>\n",
       "      <td>D1553B56FFA8974B</td>\n",
       "      <td>2020-12-30 03:15:35</td>\n",
       "      <td>product_cart</td>\n",
       "      <td>NaN</td>\n",
       "    </tr>\n",
       "    <tr>\n",
       "      <th>120430</th>\n",
       "      <td>6181F3835EBE66BF</td>\n",
       "      <td>2020-12-30 12:00:00</td>\n",
       "      <td>product_cart</td>\n",
       "      <td>NaN</td>\n",
       "    </tr>\n",
       "    <tr>\n",
       "      <th>120431</th>\n",
       "      <td>245E85F65C358E08</td>\n",
       "      <td>2020-12-30 19:35:55</td>\n",
       "      <td>product_cart</td>\n",
       "      <td>NaN</td>\n",
       "    </tr>\n",
       "    <tr>\n",
       "      <th>120432</th>\n",
       "      <td>F80C9BDDEA02E53C</td>\n",
       "      <td>2020-12-30 09:53:39</td>\n",
       "      <td>product_cart</td>\n",
       "      <td>NaN</td>\n",
       "    </tr>\n",
       "    <tr>\n",
       "      <th>120433</th>\n",
       "      <td>7AEC61159B672CC5</td>\n",
       "      <td>2020-12-30 11:36:13</td>\n",
       "      <td>product_cart</td>\n",
       "      <td>NaN</td>\n",
       "    </tr>\n",
       "  </tbody>\n",
       "</table>\n",
       "<p>60120 rows × 4 columns</p>\n",
       "</div>"
      ],
      "text/plain": [
       "                 user_id            event_dt    event_name  details\n",
       "60314   2E1BF1D4C37EA01F 2020-12-07 09:05:47  product_cart      NaN\n",
       "60315   50734A22C0C63768 2020-12-07 13:24:03  product_cart      NaN\n",
       "60316   5EB159DA9DC94DBA 2020-12-07 22:54:02  product_cart      NaN\n",
       "60317   084A22B980BA8169 2020-12-07 15:25:55  product_cart      NaN\n",
       "60318   0FC21E6F8FAA8DEC 2020-12-07 06:56:27  product_cart      NaN\n",
       "...                  ...                 ...           ...      ...\n",
       "120429  D1553B56FFA8974B 2020-12-30 03:15:35  product_cart      NaN\n",
       "120430  6181F3835EBE66BF 2020-12-30 12:00:00  product_cart      NaN\n",
       "120431  245E85F65C358E08 2020-12-30 19:35:55  product_cart      NaN\n",
       "120432  F80C9BDDEA02E53C 2020-12-30 09:53:39  product_cart      NaN\n",
       "120433  7AEC61159B672CC5 2020-12-30 11:36:13  product_cart      NaN\n",
       "\n",
       "[60120 rows x 4 columns]"
      ]
     },
     "execution_count": 100,
     "metadata": {},
     "output_type": "execute_result"
    }
   ],
   "source": [
    "cart_additions"
   ]
  },
  {
   "cell_type": "code",
   "execution_count": 101,
   "metadata": {},
   "outputs": [
    {
     "data": {
      "text/html": [
       "<div>\n",
       "<style scoped>\n",
       "    .dataframe tbody tr th:only-of-type {\n",
       "        vertical-align: middle;\n",
       "    }\n",
       "\n",
       "    .dataframe tbody tr th {\n",
       "        vertical-align: top;\n",
       "    }\n",
       "\n",
       "    .dataframe thead th {\n",
       "        text-align: right;\n",
       "    }\n",
       "</style>\n",
       "<table border=\"1\" class=\"dataframe\">\n",
       "  <thead>\n",
       "    <tr style=\"text-align: right;\">\n",
       "      <th></th>\n",
       "      <th>user_id</th>\n",
       "      <th>event_dt</th>\n",
       "      <th>event_name</th>\n",
       "      <th>details</th>\n",
       "    </tr>\n",
       "  </thead>\n",
       "  <tbody>\n",
       "    <tr>\n",
       "      <th>0</th>\n",
       "      <td>E1BDDCE0DAFA2679</td>\n",
       "      <td>2020-12-07 20:22:03</td>\n",
       "      <td>purchase</td>\n",
       "      <td>99.99</td>\n",
       "    </tr>\n",
       "    <tr>\n",
       "      <th>1</th>\n",
       "      <td>7B6452F081F49504</td>\n",
       "      <td>2020-12-07 09:22:53</td>\n",
       "      <td>purchase</td>\n",
       "      <td>9.99</td>\n",
       "    </tr>\n",
       "    <tr>\n",
       "      <th>2</th>\n",
       "      <td>9CD9F34546DF254C</td>\n",
       "      <td>2020-12-07 12:59:29</td>\n",
       "      <td>purchase</td>\n",
       "      <td>4.99</td>\n",
       "    </tr>\n",
       "    <tr>\n",
       "      <th>3</th>\n",
       "      <td>96F27A054B191457</td>\n",
       "      <td>2020-12-07 04:02:40</td>\n",
       "      <td>purchase</td>\n",
       "      <td>4.99</td>\n",
       "    </tr>\n",
       "    <tr>\n",
       "      <th>4</th>\n",
       "      <td>1FD7660FDF94CA1F</td>\n",
       "      <td>2020-12-07 10:15:09</td>\n",
       "      <td>purchase</td>\n",
       "      <td>4.99</td>\n",
       "    </tr>\n",
       "    <tr>\n",
       "      <th>...</th>\n",
       "      <td>...</td>\n",
       "      <td>...</td>\n",
       "      <td>...</td>\n",
       "      <td>...</td>\n",
       "    </tr>\n",
       "    <tr>\n",
       "      <th>60309</th>\n",
       "      <td>1455450835F72F5E</td>\n",
       "      <td>2020-12-30 09:27:10</td>\n",
       "      <td>purchase</td>\n",
       "      <td>4.99</td>\n",
       "    </tr>\n",
       "    <tr>\n",
       "      <th>60310</th>\n",
       "      <td>339C4C55021A83C6</td>\n",
       "      <td>2020-12-30 12:55:08</td>\n",
       "      <td>purchase</td>\n",
       "      <td>9.99</td>\n",
       "    </tr>\n",
       "    <tr>\n",
       "      <th>60311</th>\n",
       "      <td>D1553B56FFA8974B</td>\n",
       "      <td>2020-12-30 03:15:35</td>\n",
       "      <td>purchase</td>\n",
       "      <td>4.99</td>\n",
       "    </tr>\n",
       "    <tr>\n",
       "      <th>60312</th>\n",
       "      <td>245E85F65C358E08</td>\n",
       "      <td>2020-12-30 19:35:55</td>\n",
       "      <td>purchase</td>\n",
       "      <td>9.99</td>\n",
       "    </tr>\n",
       "    <tr>\n",
       "      <th>60313</th>\n",
       "      <td>F80C9BDDEA02E53C</td>\n",
       "      <td>2020-12-30 09:53:39</td>\n",
       "      <td>purchase</td>\n",
       "      <td>4.99</td>\n",
       "    </tr>\n",
       "  </tbody>\n",
       "</table>\n",
       "<p>60314 rows × 4 columns</p>\n",
       "</div>"
      ],
      "text/plain": [
       "                user_id            event_dt event_name  details\n",
       "0      E1BDDCE0DAFA2679 2020-12-07 20:22:03   purchase    99.99\n",
       "1      7B6452F081F49504 2020-12-07 09:22:53   purchase     9.99\n",
       "2      9CD9F34546DF254C 2020-12-07 12:59:29   purchase     4.99\n",
       "3      96F27A054B191457 2020-12-07 04:02:40   purchase     4.99\n",
       "4      1FD7660FDF94CA1F 2020-12-07 10:15:09   purchase     4.99\n",
       "...                 ...                 ...        ...      ...\n",
       "60309  1455450835F72F5E 2020-12-30 09:27:10   purchase     4.99\n",
       "60310  339C4C55021A83C6 2020-12-30 12:55:08   purchase     9.99\n",
       "60311  D1553B56FFA8974B 2020-12-30 03:15:35   purchase     4.99\n",
       "60312  245E85F65C358E08 2020-12-30 19:35:55   purchase     9.99\n",
       "60313  F80C9BDDEA02E53C 2020-12-30 09:53:39   purchase     4.99\n",
       "\n",
       "[60314 rows x 4 columns]"
      ]
     },
     "execution_count": 101,
     "metadata": {},
     "output_type": "execute_result"
    }
   ],
   "source": [
    "purchases"
   ]
  },
  {
   "cell_type": "markdown",
   "metadata": {},
   "source": [
    "## Contar usuarios únicos en cada etapa del embudo"
   ]
  },
  {
   "cell_type": "code",
   "execution_count": 102,
   "metadata": {},
   "outputs": [],
   "source": [
    "page_views_users = page_views['user_id'].nunique()\n",
    "cart_additions_users = cart_additions['user_id'].nunique()\n",
    "purchases_users = purchases['user_id'].nunique()"
   ]
  },
  {
   "cell_type": "code",
   "execution_count": 103,
   "metadata": {
    "scrolled": true
   },
   "outputs": [
    {
     "data": {
      "text/plain": [
       "38929"
      ]
     },
     "execution_count": 103,
     "metadata": {},
     "output_type": "execute_result"
    }
   ],
   "source": [
    "page_views_users"
   ]
  },
  {
   "cell_type": "code",
   "execution_count": 104,
   "metadata": {
    "scrolled": true
   },
   "outputs": [
    {
     "data": {
      "text/plain": [
       "19284"
      ]
     },
     "execution_count": 104,
     "metadata": {},
     "output_type": "execute_result"
    }
   ],
   "source": [
    "cart_additions_users"
   ]
  },
  {
   "cell_type": "code",
   "execution_count": 105,
   "metadata": {},
   "outputs": [
    {
     "data": {
      "text/plain": [
       "19568"
      ]
     },
     "execution_count": 105,
     "metadata": {},
     "output_type": "execute_result"
    }
   ],
   "source": [
    "purchases_users"
   ]
  },
  {
   "cell_type": "markdown",
   "metadata": {},
   "source": [
    "## Calcular las tasas de conversión"
   ]
  },
  {
   "cell_type": "code",
   "execution_count": 106,
   "metadata": {},
   "outputs": [],
   "source": [
    "conversion_to_cart = cart_additions_users / page_views_users\n",
    "conversion_to_purchase = purchases_users / cart_additions_users"
   ]
  },
  {
   "cell_type": "code",
   "execution_count": 107,
   "metadata": {},
   "outputs": [
    {
     "data": {
      "text/plain": [
       "0.49536335379793983"
      ]
     },
     "execution_count": 107,
     "metadata": {},
     "output_type": "execute_result"
    }
   ],
   "source": [
    "conversion_to_cart"
   ]
  },
  {
   "cell_type": "code",
   "execution_count": 108,
   "metadata": {},
   "outputs": [
    {
     "data": {
      "text/plain": [
       "1.0147272350134826"
      ]
     },
     "execution_count": 108,
     "metadata": {},
     "output_type": "execute_result"
    }
   ],
   "source": [
    "conversion_to_purchase"
   ]
  },
  {
   "cell_type": "code",
   "execution_count": 109,
   "metadata": {},
   "outputs": [
    {
     "data": {
      "image/png": "[encoded data removed]",
      "text/plain": [
       "<Figure size 1200x600 with 1 Axes>"
      ]
     },
     "metadata": {},
     "output_type": "display_data"
    }
   ],
   "source": [
    "# Filtrar usuarios por grupo A y B\n",
    "group_a_users = participants[participants['group'] == 'A']['user_id']\n",
    "group_b_users = participants[participants['group'] == 'B']['user_id']\n",
    "\n",
    "# Filtrar eventos por grupo A\n",
    "page_views_a = events[(events['event_name'] == 'product_page') & (events['user_id'].isin(group_a_users))]['user_id'].nunique()\n",
    "cart_additions_a = events[(events['event_name'] == 'product_cart') & (events['user_id'].isin(group_a_users))]['user_id'].nunique()\n",
    "purchases_a = events[(events['event_name'] == 'purchase') & (events['user_id'].isin(group_a_users))]['user_id'].nunique()\n",
    "\n",
    "# Filtrar eventos por grupo B\n",
    "page_views_b = events[(events['event_name'] == 'product_page') & (events['user_id'].isin(group_b_users))]['user_id'].nunique()\n",
    "cart_additions_b = events[(events['event_name'] == 'product_cart') & (events['user_id'].isin(group_b_users))]['user_id'].nunique()\n",
    "purchases_b = events[(events['event_name'] == 'purchase') & (events['user_id'].isin(group_b_users))]['user_id'].nunique()\n",
    "\n",
    "# Crear visualización del embudo de conversión para ambos grupos\n",
    "etapas = ['Product Page', 'Cart Additions', 'Purchases']\n",
    "usuarios_a = [page_views_a, cart_additions_a, purchases_a]\n",
    "usuarios_b = [page_views_b, cart_additions_b, purchases_b]\n",
    "\n",
    "# Crear el gráfico comparativo\n",
    "plt.figure(figsize=(12, 6))\n",
    "sns.barplot(x=etapas, y=usuarios_a, color='blue', label='Grupo A')\n",
    "sns.barplot(x=etapas, y=usuarios_b, color='green', label='Grupo B', alpha=0.6)\n",
    "plt.title('Usuarios en cada etapa del embudo de compra (Grupo A vs Grupo B)')\n",
    "plt.xlabel('Etapas del embudo')\n",
    "plt.ylabel('Número de usuarios')\n",
    "plt.legend()\n",
    "plt.show()"
   ]
  },
  {
   "cell_type": "markdown",
   "metadata": {},
   "source": [
    "# Interpretación de la visualización del embudo"
   ]
  },
  {
   "cell_type": "markdown",
   "metadata": {},
   "source": [
    "En la gráfica de comparación entre los grupos A y B en cada etapa del embudo de conversión, podemos observar lo siguiente:\n",
    "\n",
    "Product Page (Visitas a la página del producto): En esta primera etapa, parece haber una cantidad similar de usuarios entre los grupos A y B. Esto indica que ambos grupos fueron expuestos de manera equivalente al producto y tuvieron la oportunidad de visitar la página.\n",
    "\n",
    "Cart Additions (Agregar productos al carrito): Aunque ambos grupos presentan una disminución esperada en el número de usuarios que agregan productos al carrito, el grupo B (el grupo experimental) muestra una ligera ventaja en esta etapa en comparación con el grupo A (control). Esto sugiere que el nuevo sistema de recomendaciones puede estar influyendo de manera positiva en la conversión hacia esta etapa.\n",
    "\n",
    "Purchases (Compras): En la etapa final de compras, la diferencia entre los grupos se reduce o incluso podría invertirse ligeramente, con el grupo A mostrando una tasa de conversión ligeramente mayor en comparación con el grupo B. Esta tendencia es inusual, ya que esperaríamos que el grupo B mantuviera una ventaja, dada su mejor tasa en la etapa anterior.\n",
    "\n",
    "\n",
    "El grupo B, que utiliza el nuevo sistema de recomendaciones, parece estar mejor en la segunda etapa del embudo (agregar productos al carrito), pero la conversión de carrito a compra no parece mejorar de manera significativa, e incluso muestra una pequeña caída en comparación con el grupo A. Esto puede indicar que, si bien el nuevo sistema impulsa la conversión inicial, puede haber otros factores (como la experiencia de compra o la usabilidad) que no están permitiendo una mejora sostenida hasta la compra final. Este resultado sugiere la necesidad de investigar más a fondo por qué algunos usuarios del grupo B abandonan el proceso en la última etapa."
   ]
  },
  {
   "cell_type": "markdown",
   "metadata": {},
   "source": [
    "<div class=\"alert alert-block alert-danger\">\n",
    "<b>Comentario del revisor (1ra Iteracion)</b> <a class=“tocSkip”></a>\n",
    "\n",
    "Buen trabajo calculando las métricas! Sin embargo, al tratarse de una prueba AB debes revisar la cantidad de usuarios que hay para cada tratamiento y estos datos lo tienes en tu datasets de events y deberías realizar el conteo basado en ese dataset\n",
    "</div>"
   ]
  },
  {
   "cell_type": "markdown",
   "metadata": {},
   "source": [
    "<div class=\"alert alert-block alert-danger\">\n",
    "<b>Comentario del revisor (2da Iteracion)</b> <a class=“tocSkip”></a>\n",
    "\n",
    "Por favor, incluye lo mencionado en el comentario anterior. Debes revisar por cada grupo experimental la cantidad de usuarios. Si tienes alguna duda sobre mi comentario puedes dejarla escrita aquí debajo.\n",
    "</div>"
   ]
  },
  {
   "cell_type": "markdown",
   "metadata": {},
   "source": [
    "## Calcular las tasas de conversión"
   ]
  },
  {
   "cell_type": "code",
   "execution_count": 110,
   "metadata": {},
   "outputs": [
    {
     "name": "stdout",
     "output_type": "stream",
     "text": [
      "Tasa de conversión de vistas de producto a carrito: 49.54%\n",
      "Tasa de conversión de carrito a compra: 33.18%\n"
     ]
    }
   ],
   "source": [
    "# Filtrar usuarios que vieron la página del producto\n",
    "page_view_users = events[events['event_name'] == 'product_page']['user_id'].unique()\n",
    "\n",
    "# Filtrar usuarios que agregaron productos al carrito\n",
    "cart_users = events[events['event_name'] == 'product_cart']['user_id'].unique()\n",
    "\n",
    "# Filtrar usuarios que compraron (que también agregaron productos al carrito)\n",
    "purchase_users = events[(events['event_name'] == 'purchase') & (events['user_id'].isin(cart_users))]['user_id'].unique()\n",
    "\n",
    "# Contar usuarios únicos en cada etapa\n",
    "page_views_users_count = len(page_view_users)\n",
    "cart_users_count = len(cart_users)\n",
    "purchase_users_count = len(purchase_users)\n",
    "\n",
    "# Calcular tasas de conversión\n",
    "conversion_to_cart = cart_users_count / page_views_users_count if page_views_users_count != 0 else 0\n",
    "conversion_to_purchase = purchase_users_count / cart_users_count if cart_users_count != 0 else 0\n",
    "\n",
    "# Imprimir tasas de conversión corregidas\n",
    "print(f\"Tasa de conversión de vistas de producto a carrito: {conversion_to_cart:.2%}\")\n",
    "print(f\"Tasa de conversión de carrito a compra: {conversion_to_purchase:.2%}\")"
   ]
  },
  {
   "cell_type": "markdown",
   "metadata": {},
   "source": [
    "# Distribución de eventos por usuario y por día"
   ]
  },
  {
   "cell_type": "markdown",
   "metadata": {},
   "source": [
    "# Distribución de eventos por usuario y por día"
   ]
  },
  {
   "cell_type": "markdown",
   "metadata": {},
   "source": [
    "Analizamos cómo se distribuyen los eventos entre los días para evaluar si hubo anomalías durante el período de la prueba."
   ]
  },
  {
   "cell_type": "markdown",
   "metadata": {},
   "source": [
    "## Contar eventos por día"
   ]
  },
  {
   "cell_type": "code",
   "execution_count": 111,
   "metadata": {},
   "outputs": [],
   "source": [
    "events['event_date'] = events['event_dt'].dt.date\n",
    "daily_events = events.groupby('event_date').size()"
   ]
  },
  {
   "cell_type": "code",
   "execution_count": 112,
   "metadata": {},
   "outputs": [
    {
     "data": {
      "text/plain": [
       "0         2020-12-07\n",
       "1         2020-12-07\n",
       "2         2020-12-07\n",
       "3         2020-12-07\n",
       "4         2020-12-07\n",
       "             ...    \n",
       "423756    2020-12-30\n",
       "423757    2020-12-30\n",
       "423758    2020-12-30\n",
       "423759    2020-12-30\n",
       "423760    2020-12-30\n",
       "Name: event_date, Length: 423761, dtype: object"
      ]
     },
     "execution_count": 112,
     "metadata": {},
     "output_type": "execute_result"
    }
   ],
   "source": [
    "events['event_date']"
   ]
  },
  {
   "cell_type": "code",
   "execution_count": 113,
   "metadata": {},
   "outputs": [
    {
     "data": {
      "text/plain": [
       "event_date\n",
       "2020-12-07    11385\n",
       "2020-12-08    12547\n",
       "2020-12-09    12122\n",
       "2020-12-10    14077\n",
       "2020-12-11    13864\n",
       "2020-12-12    17634\n",
       "2020-12-13    20985\n",
       "2020-12-14    26184\n",
       "2020-12-15    23469\n",
       "2020-12-16    20909\n",
       "2020-12-17    21751\n",
       "2020-12-18    22871\n",
       "2020-12-19    24273\n",
       "2020-12-20    26425\n",
       "2020-12-21    32559\n",
       "2020-12-22    29472\n",
       "2020-12-23    26108\n",
       "2020-12-24    19399\n",
       "2020-12-26    14058\n",
       "2020-12-27    12420\n",
       "2020-12-28    11014\n",
       "2020-12-29    10146\n",
       "2020-12-30       89\n",
       "dtype: int64"
      ]
     },
     "execution_count": 113,
     "metadata": {},
     "output_type": "execute_result"
    }
   ],
   "source": [
    "daily_events"
   ]
  },
  {
   "cell_type": "markdown",
   "metadata": {},
   "source": [
    "## Graficar la distribución de eventos diarios"
   ]
  },
  {
   "cell_type": "code",
   "execution_count": 114,
   "metadata": {},
   "outputs": [
    {
     "data": {
      "image/png": "[encoded data removed]",
      "text/plain": [
       "<Figure size 1000x600 with 1 Axes>"
      ]
     },
     "metadata": {},
     "output_type": "display_data"
    }
   ],
   "source": [
    "# Contar eventos por día\n",
    "events['event_date'] = events['event_dt'].dt.date\n",
    "daily_events = events.groupby('event_date').size()\n",
    "\n",
    "# Graficar la distribución de eventos diarios\n",
    "plt.figure(figsize=(10, 6))\n",
    "daily_events.plot(kind='line')\n",
    "plt.title('Distribución de eventos por día')\n",
    "plt.xlabel('Fecha')\n",
    "plt.ylabel('Número de eventos')\n",
    "plt.show()"
   ]
  },
  {
   "cell_type": "markdown",
   "metadata": {},
   "source": [
    "# Interpretación de la visualización de eventos por día"
   ]
  },
  {
   "cell_type": "markdown",
   "metadata": {},
   "source": [
    "Observamos un comportamiento bastante estable en la cantidad de eventos diarios durante la mayor parte del período de prueba, con un pico más alto cerca del final. Este comportamiento podría estar relacionado con campañas de marketing o promociones específicas, que podrían haber impactado el volumen de tráfico y las conversiones en esos días."
   ]
  },
  {
   "cell_type": "markdown",
   "metadata": {},
   "source": [
    "<div class=\"alert alert-block alert-warning\">\n",
    "<b>Comentario del revisor (1ra Iteracion)</b> <a class=“tocSkip”></a>\n",
    "\n",
    "Buen trabajo! Aunque cuando se analiza datos en fechas y tienes varios puntos en el eje X es mejor utilizar un gráfico de líneas\n",
    "</div>"
   ]
  },
  {
   "cell_type": "markdown",
   "metadata": {},
   "source": [
    "<div class=\"alert alert-block alert-success\">\n",
    "<b>Comentario del revisor (2da Iteracion)</b> <a class=“tocSkip”></a>\n",
    "\n",
    "Buen trabajo con el cambio!\n",
    "</div>"
   ]
  },
  {
   "cell_type": "markdown",
   "metadata": {},
   "source": [
    "# Verificar si hay usuarios en ambas muestras"
   ]
  },
  {
   "cell_type": "code",
   "execution_count": 115,
   "metadata": {},
   "outputs": [
    {
     "name": "stdout",
     "output_type": "stream",
     "text": [
      "Usuarios presentes en ambos grupos: 441\n"
     ]
    }
   ],
   "source": [
    "duplicate_users = participants.groupby('user_id')['group'].nunique()\n",
    "users_in_both_groups = duplicate_users[duplicate_users > 1].count()\n",
    "\n",
    "print(f\"Usuarios presentes en ambos grupos: {users_in_both_groups}\")"
   ]
  },
  {
   "cell_type": "code",
   "execution_count": 116,
   "metadata": {},
   "outputs": [
    {
     "data": {
      "image/png": "[encoded data removed]",
      "text/plain": [
       "<Figure size 1000x600 with 1 Axes>"
      ]
     },
     "metadata": {},
     "output_type": "display_data"
    }
   ],
   "source": [
    "# Graficar la distribución de eventos por día\n",
    "plt.figure(figsize=(10, 6))\n",
    "daily_events.plot(kind='line')\n",
    "plt.title('Distribución de eventos por día')\n",
    "plt.xlabel('Fecha')\n",
    "plt.ylabel('Número de eventos')\n",
    "plt.xticks(rotation=45)\n",
    "plt.show()"
   ]
  },
  {
   "cell_type": "markdown",
   "metadata": {},
   "source": [
    "Al analizar los datos antes de iniciar la prueba, encontramos algunas observaciones que podrían influir en los resultados:\n",
    "\n",
    "Usuarios presentes en ambos grupos (441 usuarios): Identificamos que 441 usuarios están presentes tanto en el grupo A como en el grupo B. Esto podría sesgar los resultados, ya que estos usuarios estarían expuestos tanto al sistema de recomendaciones nuevo como al embudo tradicional. Sería recomendable excluir a estos usuarios de ambos grupos para evitar sesgos en la prueba A/B.\n",
    "\n",
    "Distribución de eventos: Si al analizar la distribución de eventos por día encontramos días con picos inusuales, esto podría indicar la influencia de campañas de marketing o eventos externos que afectaron el comportamiento de los usuarios. Por ejemplo, durante los fines de semana o promociones específicas, es probable que los usuarios sean más activos, lo cual debería tenerse en cuenta al interpretar los resultados."
   ]
  },
  {
   "cell_type": "markdown",
   "metadata": {},
   "source": [
    "<div class=\"alert alert-block alert-danger\">\n",
    "<b>Comentario del revisor (1ra Iteracion)</b> <a class=“tocSkip”></a>\n",
    "\n",
    "Buen trabajo en esta sección! Sin embargo te hace falta la respuesta a las siguientes preguntas:\n",
    "    \n",
    "- ¿Cómo se distribuye el número de eventos entre los días?\n",
    "- ¿Hay alguna peculiaridad en los datos que hay que tener en cuenta antes de iniciar la prueba A/B?\n",
    "</div>"
   ]
  },
  {
   "cell_type": "markdown",
   "metadata": {},
   "source": [
    "<div class=\"alert alert-block alert-danger\">\n",
    "<b>Comentario del revisor (2da Iteracion)</b> <a class=“tocSkip”></a>\n",
    "\n",
    "Por favor completa lo mencionado en el comentario anterior.\n",
    "</div>"
   ]
  },
  {
   "cell_type": "markdown",
   "metadata": {},
   "source": [
    "# Evaluación de los resultados de la prueba A/B"
   ]
  },
  {
   "cell_type": "markdown",
   "metadata": {},
   "source": [
    "# Calcular las tasas de conversión para los grupos A y B"
   ]
  },
  {
   "cell_type": "markdown",
   "metadata": {},
   "source": [
    "Ahora calculamos las tasas de conversión en cada etapa del embudo para los grupos de control y experimentales."
   ]
  },
  {
   "cell_type": "code",
   "execution_count": 118,
   "metadata": {},
   "outputs": [
    {
     "name": "stdout",
     "output_type": "stream",
     "text": [
      "Tasa de conversión a carrito - Grupo A: 31.47%, Grupo B: 32.99%\n",
      "Tasa de conversión a compra - Grupo A: 33.51%, Grupo B: 32.50%\n"
     ]
    }
   ],
   "source": [
    "# Dividir usuarios en grupos A y B\n",
    "group_a_users = participants[participants['group'] == 'A']['user_id']\n",
    "group_b_users = participants[participants['group'] == 'B']['user_id']\n",
    "\n",
    "# Filtrar eventos por grupo\n",
    "events_a = events[events['user_id'].isin(group_a_users)]\n",
    "events_b = events[events['user_id'].isin(group_b_users)]\n",
    "\n",
    "# Definir función de tasa de conversión usando usuarios únicos\n",
    "def conversion_rate_unique_users(events_group, step_event, next_step_event):\n",
    "    step_users = events_group[events_group['event_name'] == step_event]['user_id'].drop_duplicates()\n",
    "    next_step_users = events_group[events_group['event_name'] == next_step_event]['user_id'].drop_duplicates()\n",
    "    \n",
    "    # Filtrar los usuarios que hicieron el paso siguiente después de completar el anterior\n",
    "    next_step_from_step_users = next_step_users[next_step_users.isin(step_users)]\n",
    "    \n",
    "    return len(next_step_from_step_users) / len(step_users) if len(step_users) > 0 else 0\n",
    "\n",
    "# Conversión de vistas a carrito\n",
    "conversion_a_cart = conversion_rate_unique_users(events_a, 'product_page', 'product_cart')\n",
    "conversion_b_cart = conversion_rate_unique_users(events_b, 'product_page', 'product_cart')\n",
    "\n",
    "# Conversión de carrito a compra\n",
    "conversion_a_purchase = conversion_rate_unique_users(events_a, 'product_cart', 'purchase')\n",
    "conversion_b_purchase = conversion_rate_unique_users(events_b, 'product_cart', 'purchase')\n",
    "\n",
    "# Imprimir tasas de conversión corregidas\n",
    "print(f\"Tasa de conversión a carrito - Grupo A: {conversion_a_cart:.2%}, Grupo B: {conversion_b_cart:.2%}\")\n",
    "print(f\"Tasa de conversión a compra - Grupo A: {conversion_a_purchase:.2%}, Grupo B: {conversion_b_purchase:.2%}\")\n"
   ]
  },
  {
   "cell_type": "code",
   "execution_count": 119,
   "metadata": {},
   "outputs": [
    {
     "data": {
      "image/png": "[encoded data removed]",
      "text/plain": [
       "<Figure size 1000x600 with 1 Axes>"
      ]
     },
     "metadata": {},
     "output_type": "display_data"
    }
   ],
   "source": [
    "# Visualización de las tasas de conversión\n",
    "etapas = ['Conversion to Cart', 'Conversion to Purchase']\n",
    "grupo_a = [conversion_a_cart, conversion_a_purchase]\n",
    "grupo_b = [conversion_b_cart, conversion_b_purchase]\n",
    "\n",
    "df_conversion = pd.DataFrame({'Grupo A': grupo_a, 'Grupo B': grupo_b}, index=etapas)\n",
    "df_conversion.plot(kind='bar', figsize=(10, 6))\n",
    "plt.title('Tasas de conversión - Grupo A vs Grupo B')\n",
    "plt.ylabel('Tasa de conversión')\n",
    "plt.show()"
   ]
  },
  {
   "cell_type": "markdown",
   "metadata": {},
   "source": [
    "La gráfica muestra una comparación clara de las tasas de conversión entre los grupos A y B en dos etapas del embudo: \"Conversión a Carrito\" y \"Conversión a Compra\". Los resultados indican que las tasas de conversión son relativamente similares en ambos grupos.\n",
    "\n",
    "Conversión a Carrito: El Grupo B tiene una ligera ventaja con un 32.99%, frente al 31.47% del Grupo A.\n",
    "Conversión a Compra: El Grupo A supera marginalmente al Grupo B, con un 33.51% en comparación con el 32.50% de conversión en el Grupo B.\n",
    "Estas diferencias son pequeñas, lo que sugiere que el nuevo sistema de recomendaciones (Grupo B) no generó un impacto significativo en la conversión frente al sistema actual (Grupo A)."
   ]
  },
  {
   "cell_type": "markdown",
   "metadata": {},
   "source": [
    "<div class=\"alert alert-block alert-danger\">\n",
    "<b>Comentario del revisor (1ra Iteracion)</b> <a class=“tocSkip”></a>\n",
    "\n",
    "Por favor revisa la forma en la que estás calculando la conversión de compra, el tener un 108% de conversión es cómo si la métrica nos dijera que por cada 100 personas que agregaron productos 108 compraron\n",
    "</div>"
   ]
  },
  {
   "cell_type": "markdown",
   "metadata": {},
   "source": [
    "<div class=\"alert alert-block alert-danger\">\n",
    "<b>Comentario del revisor (2da Iteracion)</b> <a class=“tocSkip”></a>\n",
    "\n",
    "El resultado de tu conversión sigue teniendo un porcentaje que no es el correcto, continuas con 108%, por favor verifica la forma en la que estás realizando el cálculo.\n",
    "</div>"
   ]
  },
  {
   "cell_type": "markdown",
   "metadata": {},
   "source": [
    "##  Prueba Z para la diferencia de proporciones"
   ]
  },
  {
   "cell_type": "markdown",
   "metadata": {},
   "source": [
    "Para evaluar si la diferencia en las tasas de conversión entre los grupos es significativa, utilizamos la prueba z para la diferencia de proporciones."
   ]
  },
  {
   "cell_type": "code",
   "execution_count": 42,
   "metadata": {},
   "outputs": [
    {
     "name": "stdout",
     "output_type": "stream",
     "text": [
      "Prueba z para conversión a carrito: z = -3.26, p-value = 0.00112\n"
     ]
    }
   ],
   "source": [
    "# Verificar si el número total de usuarios es mayor que 0 para evitar errores\n",
    "success_a_cart = events_a[events_a['event_name'] == 'product_cart']['user_id'].nunique()\n",
    "total_a_page = events_a[events_a['event_name'] == 'product_page']['user_id'].nunique()\n",
    "\n",
    "success_b_cart = events_b[events_b['event_name'] == 'product_cart']['user_id'].nunique()\n",
    "total_b_page = events_b[events_b['event_name'] == 'product_page']['user_id'].nunique()\n",
    "\n",
    "if total_a_page > 0 and total_b_page > 0:\n",
    "    # Prueba z para conversiones de carrito\n",
    "    count = np.array([success_a_cart, success_b_cart])\n",
    "    nobs = np.array([total_a_page, total_b_page])\n",
    "    z_stat, p_value = proportions_ztest(count, nobs)\n",
    "    print(f\"Prueba z para conversión a carrito: z = {z_stat:.2f}, p-value = {p_value:.5f}\")\n",
    "else:\n",
    "    print(\"No hay suficientes datos para realizar la prueba Z en la conversión a carrito.\")"
   ]
  },
  {
   "cell_type": "code",
   "execution_count": 43,
   "metadata": {},
   "outputs": [
    {
     "name": "stdout",
     "output_type": "stream",
     "text": [
      "Usuarios en Grupo A - Carrito: 2483, Compras: 832\n",
      "Usuarios en Grupo B - Carrito: 2037, Compras: 662\n",
      "Prueba z para conversión a compra: z = 0.72, p-value = 0.47302\n"
     ]
    }
   ],
   "source": [
    "# Asegurarnos de que los usuarios que compraron también hayan agregado productos al carrito\n",
    "cart_users_a = events_a[events_a['event_name'] == 'product_cart']['user_id'].unique()\n",
    "cart_users_b = events_b[events_b['event_name'] == 'product_cart']['user_id'].unique()\n",
    "\n",
    "# Filtrar las compras solo para usuarios que primero agregaron al carrito\n",
    "filtered_purchases_a = events_a[(events_a['event_name'] == 'purchase') & (events_a['user_id'].isin(cart_users_a))]\n",
    "filtered_purchases_b = events_b[(events_b['event_name'] == 'purchase') & (events_b['user_id'].isin(cart_users_b))]\n",
    "\n",
    "# Eliminar duplicados por usuario y evento\n",
    "events_a_cleaned = events_a.drop_duplicates(subset=['user_id', 'event_name'])\n",
    "events_b_cleaned = events_b.drop_duplicates(subset=['user_id', 'event_name'])\n",
    "\n",
    "# Calcular conversiones de carrito a compra después de limpiar duplicados\n",
    "success_a_purchase = filtered_purchases_a['user_id'].nunique()\n",
    "total_a_cart = events_a_cleaned[events_a_cleaned['event_name'] == 'product_cart']['user_id'].nunique()\n",
    "\n",
    "success_b_purchase = filtered_purchases_b['user_id'].nunique()\n",
    "total_b_cart = events_b_cleaned[events_b_cleaned['event_name'] == 'product_cart']['user_id'].nunique()\n",
    "\n",
    "# Verificar los valores intermedios\n",
    "print(f\"Usuarios en Grupo A - Carrito: {total_a_cart}, Compras: {success_a_purchase}\")\n",
    "print(f\"Usuarios en Grupo B - Carrito: {total_b_cart}, Compras: {success_b_purchase}\")\n",
    "\n",
    "# Verificación de valores antes de realizar la prueba z\n",
    "if total_a_cart > 0 and total_b_cart > 0 and success_a_purchase > 0 and success_b_purchase > 0:\n",
    "    count_purchase = np.array([success_a_purchase, success_b_purchase])\n",
    "    nobs_purchase = np.array([total_a_cart, total_b_cart])\n",
    "\n",
    "    # Ejecutar la prueba z solo si hay datos suficientes\n",
    "    z_stat_purchase, p_value_purchase = proportions_ztest(count_purchase, nobs_purchase)\n",
    "    \n",
    "    # Mostrar los resultados\n",
    "    print(f\"Prueba z para conversión a compra: z = {z_stat_purchase:.2f}, p-value = {p_value_purchase:.5f}\")\n",
    "else:\n",
    "    print(\"No hay suficientes datos para realizar la prueba Z en la conversión a compra.\")"
   ]
  },
  {
   "cell_type": "markdown",
   "metadata": {},
   "source": [
    "<div class=\"alert alert-block alert-danger\">\n",
    "<b>Comentario del revisor (1ra Iteracion)</b> <a class=“tocSkip”></a>\n",
    "\n",
    "Por favor revisa los filtros que estás aplicando, el valor p no puede ser un `nan` en tus resultados de las pruebas estadísticas y esto suele suceder cuando algún filtro no retorna ningún valor y es enviado así a calcular la prueba.\n",
    "</div>"
   ]
  },
  {
   "cell_type": "markdown",
   "metadata": {},
   "source": [
    "<div class=\"alert alert-block alert-success\">\n",
    "<b>Comentario del revisor (2da Iteracion)</b> <a class=“tocSkip”></a>\n",
    "\n",
    "Buen trabajo! Ahora si se pudo ejecutar correctamente las pruebas de hipótesis!\n",
    "</div>"
   ]
  },
  {
   "cell_type": "markdown",
   "metadata": {},
   "source": [
    "# Conclusiones"
   ]
  },
  {
   "cell_type": "markdown",
   "metadata": {},
   "source": [
    "Conversión a carrito: La conversión en el grupo B (nuevo embudo) fue mayor que en el grupo A, aunque el resultado no fue estadísticamente significativo.\n",
    "Conversión a compra: También se observó una ligera mejora en el grupo B para las conversiones a compra, pero tampoco fue estadísticamente significativa.\n",
    "Esto sugiere que, aunque el nuevo sistema de recomendaciones podría tener un impacto positivo en la conversión, las diferencias observadas no son lo suficientemente grandes como para ser concluyentes. Se recomienda realizar más pruebas para confirmar los hallazgos o ajustar el sistema de recomendaciones antes de implementarlo a gran escala."
   ]
  },
  {
   "cell_type": "markdown",
   "metadata": {},
   "source": [
    "<div class=\"alert alert-block alert-info\">\n",
    "<b>Comentario general (1ra Iteracion)</b> <a class=“tocSkip”></a>\n",
    "\n",
    "Hiciste un trabajo muy bueno Francisco, sin embargo tienes aún algunos puntos donde tienes oportunidad de mejora para completar este proyecto. Te he dejado algunos comentarios a lo largo del notebook.\n",
    "    \n",
    "Además, te recomiendo apoyarte más de las visualizaciones para analizar el embudo por el que tienen que ir los usuarios y que vayas redactando tus interpretaciones en cada sección de tu análisis. Recuerda que en tu profesión no siempre vas a poder compartir solo un notebook para exponer tu trabajo sino que a menudo deberás realizar presentaciones donde expliques tu análisis por lo que es de gran ayuda tener visualizaciones y tus interpretaciones de las mismas.\n",
    "    \n",
    "Además la conclusión final debe ser un poco más detallada en cuanto a todo lo que lograste analizar.\n",
    "    \n",
    "    \n",
    "Saludos.\n",
    "</div>"
   ]
  }
 ],
 "metadata": {
  "ExecuteTimeLog": [
   {
    "duration": 2470,
    "start_time": "2024-09-10T18:37:01.980Z"
   },
   {
    "duration": 443,
    "start_time": "2024-09-10T18:38:02.797Z"
   },
   {
    "duration": 9,
    "start_time": "2024-09-10T18:38:54.043Z"
   },
   {
    "duration": 14,
    "start_time": "2024-09-10T18:39:04.777Z"
   },
   {
    "duration": 41,
    "start_time": "2024-09-10T18:39:14.809Z"
   },
   {
    "duration": 10,
    "start_time": "2024-09-10T18:39:24.852Z"
   },
   {
    "duration": 9,
    "start_time": "2024-09-10T18:40:19.508Z"
   },
   {
    "duration": 6,
    "start_time": "2024-09-10T18:40:27.456Z"
   },
   {
    "duration": 8,
    "start_time": "2024-09-10T18:40:35.521Z"
   },
   {
    "duration": 6,
    "start_time": "2024-09-10T18:40:45.475Z"
   },
   {
    "duration": 5,
    "start_time": "2024-09-10T18:41:34.171Z"
   },
   {
    "duration": 11,
    "start_time": "2024-09-10T18:41:44.731Z"
   },
   {
    "duration": 38,
    "start_time": "2024-09-10T18:41:54.268Z"
   },
   {
    "duration": 7,
    "start_time": "2024-09-10T18:42:02.875Z"
   },
   {
    "duration": 27,
    "start_time": "2024-09-10T18:42:39.483Z"
   },
   {
    "duration": 148,
    "start_time": "2024-09-10T18:42:49.074Z"
   },
   {
    "duration": 8,
    "start_time": "2024-09-10T18:42:58.453Z"
   },
   {
    "duration": 64,
    "start_time": "2024-09-10T18:44:43.555Z"
   },
   {
    "duration": 6,
    "start_time": "2024-09-10T18:46:41.945Z"
   },
   {
    "duration": 70,
    "start_time": "2024-09-10T18:48:40.924Z"
   },
   {
    "duration": 28,
    "start_time": "2024-09-10T18:49:20.211Z"
   },
   {
    "duration": 3,
    "start_time": "2024-09-10T18:50:23.454Z"
   },
   {
    "duration": 3,
    "start_time": "2024-09-10T18:51:02.321Z"
   },
   {
    "duration": 5,
    "start_time": "2024-09-10T18:54:43.013Z"
   },
   {
    "duration": 4,
    "start_time": "2024-09-10T18:55:24.482Z"
   },
   {
    "duration": 5,
    "start_time": "2024-09-10T18:56:07.188Z"
   },
   {
    "duration": 4,
    "start_time": "2024-09-10T18:56:09.854Z"
   },
   {
    "duration": 10,
    "start_time": "2024-09-10T18:56:47.261Z"
   },
   {
    "duration": 10,
    "start_time": "2024-09-10T18:57:04.492Z"
   },
   {
    "duration": 10,
    "start_time": "2024-09-10T18:57:36.137Z"
   },
   {
    "duration": 3,
    "start_time": "2024-09-10T18:57:48.813Z"
   },
   {
    "duration": 4,
    "start_time": "2024-09-10T18:58:09.199Z"
   },
   {
    "duration": 4,
    "start_time": "2024-09-10T18:58:19.847Z"
   },
   {
    "duration": 3,
    "start_time": "2024-09-10T18:58:50.049Z"
   },
   {
    "duration": 99,
    "start_time": "2024-09-10T19:01:37.748Z"
   },
   {
    "duration": 4,
    "start_time": "2024-09-10T19:01:46.154Z"
   },
   {
    "duration": 4,
    "start_time": "2024-09-10T19:01:55.873Z"
   },
   {
    "duration": 3,
    "start_time": "2024-09-10T19:02:35.162Z"
   },
   {
    "duration": 3,
    "start_time": "2024-09-10T19:02:37.481Z"
   },
   {
    "duration": 203,
    "start_time": "2024-09-10T19:03:17.104Z"
   },
   {
    "duration": 21,
    "start_time": "2024-09-10T19:04:32.328Z"
   },
   {
    "duration": 89,
    "start_time": "2024-09-10T19:09:00.989Z"
   },
   {
    "duration": 39,
    "start_time": "2024-09-10T19:10:00.608Z"
   },
   {
    "duration": 3,
    "start_time": "2024-09-10T19:18:02.008Z"
   },
   {
    "duration": 22,
    "start_time": "2024-09-10T19:20:19.491Z"
   },
   {
    "duration": 20,
    "start_time": "2024-09-10T19:20:33.781Z"
   },
   {
    "duration": 2,
    "start_time": "2024-09-10T19:20:51.581Z"
   },
   {
    "duration": 335,
    "start_time": "2024-09-10T19:20:51.585Z"
   },
   {
    "duration": 8,
    "start_time": "2024-09-10T19:20:51.921Z"
   },
   {
    "duration": 13,
    "start_time": "2024-09-10T19:20:51.931Z"
   },
   {
    "duration": 40,
    "start_time": "2024-09-10T19:20:51.946Z"
   },
   {
    "duration": 24,
    "start_time": "2024-09-10T19:20:51.987Z"
   },
   {
    "duration": 7,
    "start_time": "2024-09-10T19:20:52.013Z"
   },
   {
    "duration": 6,
    "start_time": "2024-09-10T19:20:52.022Z"
   },
   {
    "duration": 6,
    "start_time": "2024-09-10T19:20:52.030Z"
   },
   {
    "duration": 6,
    "start_time": "2024-09-10T19:20:52.041Z"
   },
   {
    "duration": 5,
    "start_time": "2024-09-10T19:20:52.049Z"
   },
   {
    "duration": 50,
    "start_time": "2024-09-10T19:20:52.056Z"
   },
   {
    "duration": 39,
    "start_time": "2024-09-10T19:20:52.108Z"
   },
   {
    "duration": 6,
    "start_time": "2024-09-10T19:20:52.148Z"
   },
   {
    "duration": 4,
    "start_time": "2024-09-10T19:20:52.156Z"
   },
   {
    "duration": 50,
    "start_time": "2024-09-10T19:20:52.161Z"
   },
   {
    "duration": 138,
    "start_time": "2024-09-10T19:20:52.212Z"
   },
   {
    "duration": 7,
    "start_time": "2024-09-10T19:20:52.352Z"
   },
   {
    "duration": 85,
    "start_time": "2024-09-10T19:20:52.361Z"
   },
   {
    "duration": 5,
    "start_time": "2024-09-10T19:20:52.448Z"
   },
   {
    "duration": 4,
    "start_time": "2024-09-10T19:20:52.454Z"
   },
   {
    "duration": 2,
    "start_time": "2024-09-10T19:20:52.460Z"
   },
   {
    "duration": 75,
    "start_time": "2024-09-10T19:20:52.464Z"
   },
   {
    "duration": 9,
    "start_time": "2024-09-10T19:20:52.541Z"
   },
   {
    "duration": 9,
    "start_time": "2024-09-10T19:20:52.552Z"
   },
   {
    "duration": 10,
    "start_time": "2024-09-10T19:20:52.563Z"
   },
   {
    "duration": 48,
    "start_time": "2024-09-10T19:20:52.575Z"
   },
   {
    "duration": 6,
    "start_time": "2024-09-10T19:20:52.626Z"
   },
   {
    "duration": 3,
    "start_time": "2024-09-10T19:20:52.633Z"
   },
   {
    "duration": 3,
    "start_time": "2024-09-10T19:20:52.638Z"
   },
   {
    "duration": 3,
    "start_time": "2024-09-10T19:20:52.642Z"
   },
   {
    "duration": 4,
    "start_time": "2024-09-10T19:20:52.646Z"
   },
   {
    "duration": 3,
    "start_time": "2024-09-10T19:20:52.652Z"
   },
   {
    "duration": 3,
    "start_time": "2024-09-10T19:20:52.657Z"
   },
   {
    "duration": 144,
    "start_time": "2024-09-10T19:20:52.662Z"
   },
   {
    "duration": 6,
    "start_time": "2024-09-10T19:20:52.808Z"
   },
   {
    "duration": 5,
    "start_time": "2024-09-10T19:20:52.815Z"
   },
   {
    "duration": 213,
    "start_time": "2024-09-10T19:20:52.822Z"
   },
   {
    "duration": 15,
    "start_time": "2024-09-10T19:20:53.037Z"
   },
   {
    "duration": 147,
    "start_time": "2024-09-10T19:20:53.053Z"
   },
   {
    "duration": 21,
    "start_time": "2024-09-10T19:20:53.205Z"
   },
   {
    "duration": 20,
    "start_time": "2024-09-10T19:21:00.606Z"
   },
   {
    "duration": 20,
    "start_time": "2024-09-10T19:21:09.594Z"
   },
   {
    "duration": 20,
    "start_time": "2024-09-10T19:21:31.049Z"
   },
   {
    "duration": 3107,
    "start_time": "2024-09-10T20:23:51.108Z"
   },
   {
    "duration": 448,
    "start_time": "2024-09-10T20:23:54.217Z"
   },
   {
    "duration": 9,
    "start_time": "2024-09-10T20:23:54.667Z"
   },
   {
    "duration": 14,
    "start_time": "2024-09-10T20:23:54.678Z"
   },
   {
    "duration": 41,
    "start_time": "2024-09-10T20:23:54.693Z"
   },
   {
    "duration": 13,
    "start_time": "2024-09-10T20:23:54.736Z"
   },
   {
    "duration": 9,
    "start_time": "2024-09-10T20:23:54.750Z"
   },
   {
    "duration": 7,
    "start_time": "2024-09-10T20:23:54.760Z"
   },
   {
    "duration": 7,
    "start_time": "2024-09-10T20:23:54.768Z"
   },
   {
    "duration": 5,
    "start_time": "2024-09-10T20:23:54.779Z"
   },
   {
    "duration": 5,
    "start_time": "2024-09-10T20:23:54.786Z"
   },
   {
    "duration": 51,
    "start_time": "2024-09-10T20:23:54.793Z"
   },
   {
    "duration": 40,
    "start_time": "2024-09-10T20:23:54.846Z"
   },
   {
    "duration": 6,
    "start_time": "2024-09-10T20:23:54.888Z"
   },
   {
    "duration": 4,
    "start_time": "2024-09-10T20:23:54.895Z"
   },
   {
    "duration": 51,
    "start_time": "2024-09-10T20:23:54.901Z"
   },
   {
    "duration": 152,
    "start_time": "2024-09-10T20:23:54.954Z"
   },
   {
    "duration": 8,
    "start_time": "2024-09-10T20:23:55.108Z"
   },
   {
    "duration": 96,
    "start_time": "2024-09-10T20:23:55.117Z"
   },
   {
    "duration": 4,
    "start_time": "2024-09-10T20:23:55.215Z"
   },
   {
    "duration": 4,
    "start_time": "2024-09-10T20:23:55.221Z"
   },
   {
    "duration": 224,
    "start_time": "2024-09-10T20:23:55.227Z"
   },
   {
    "duration": 0,
    "start_time": "2024-09-10T20:23:55.453Z"
   },
   {
    "duration": 0,
    "start_time": "2024-09-10T20:23:55.455Z"
   },
   {
    "duration": 0,
    "start_time": "2024-09-10T20:23:55.456Z"
   },
   {
    "duration": 0,
    "start_time": "2024-09-10T20:23:55.457Z"
   },
   {
    "duration": 0,
    "start_time": "2024-09-10T20:23:55.458Z"
   },
   {
    "duration": 0,
    "start_time": "2024-09-10T20:23:55.460Z"
   },
   {
    "duration": 0,
    "start_time": "2024-09-10T20:23:55.461Z"
   },
   {
    "duration": 0,
    "start_time": "2024-09-10T20:23:55.462Z"
   },
   {
    "duration": 0,
    "start_time": "2024-09-10T20:23:55.464Z"
   },
   {
    "duration": 0,
    "start_time": "2024-09-10T20:23:55.465Z"
   },
   {
    "duration": 0,
    "start_time": "2024-09-10T20:23:55.467Z"
   },
   {
    "duration": 0,
    "start_time": "2024-09-10T20:23:55.469Z"
   },
   {
    "duration": 0,
    "start_time": "2024-09-10T20:23:55.470Z"
   },
   {
    "duration": 0,
    "start_time": "2024-09-10T20:23:55.471Z"
   },
   {
    "duration": 0,
    "start_time": "2024-09-10T20:23:55.472Z"
   },
   {
    "duration": 0,
    "start_time": "2024-09-10T20:23:55.473Z"
   },
   {
    "duration": 0,
    "start_time": "2024-09-10T20:23:55.474Z"
   },
   {
    "duration": 0,
    "start_time": "2024-09-10T20:23:55.475Z"
   },
   {
    "duration": 0,
    "start_time": "2024-09-10T20:23:55.476Z"
   },
   {
    "duration": 0,
    "start_time": "2024-09-10T20:23:55.477Z"
   },
   {
    "duration": 61,
    "start_time": "2024-09-10T20:37:11.969Z"
   },
   {
    "duration": 11,
    "start_time": "2024-09-10T20:37:12.297Z"
   },
   {
    "duration": 10,
    "start_time": "2024-09-10T20:37:12.770Z"
   },
   {
    "duration": 12,
    "start_time": "2024-09-10T20:37:13.197Z"
   },
   {
    "duration": 28,
    "start_time": "2024-09-10T20:37:14.153Z"
   },
   {
    "duration": 3,
    "start_time": "2024-09-10T20:37:14.705Z"
   },
   {
    "duration": 4,
    "start_time": "2024-09-10T20:37:15.294Z"
   },
   {
    "duration": 3,
    "start_time": "2024-09-10T20:37:15.682Z"
   },
   {
    "duration": 2,
    "start_time": "2024-09-10T20:37:16.514Z"
   },
   {
    "duration": 3,
    "start_time": "2024-09-10T20:37:17.092Z"
   },
   {
    "duration": 3,
    "start_time": "2024-09-10T20:37:17.692Z"
   },
   {
    "duration": 3,
    "start_time": "2024-09-10T20:37:18.639Z"
   },
   {
    "duration": 99,
    "start_time": "2024-09-10T20:37:20.699Z"
   },
   {
    "duration": 5,
    "start_time": "2024-09-10T20:37:21.059Z"
   },
   {
    "duration": 4,
    "start_time": "2024-09-10T20:37:21.408Z"
   },
   {
    "duration": 203,
    "start_time": "2024-09-10T20:37:22.234Z"
   },
   {
    "duration": 76,
    "start_time": "2024-09-10T20:37:22.903Z"
   },
   {
    "duration": 115,
    "start_time": "2024-09-10T20:37:24.172Z"
   },
   {
    "duration": 22,
    "start_time": "2024-09-10T20:37:24.671Z"
   },
   {
    "duration": 26,
    "start_time": "2024-09-10T20:37:24.852Z"
   },
   {
    "duration": 10,
    "start_time": "2024-09-10T20:39:39.412Z"
   },
   {
    "duration": 8,
    "start_time": "2024-09-10T20:39:44.720Z"
   },
   {
    "duration": 7,
    "start_time": "2024-09-10T20:39:54.074Z"
   },
   {
    "duration": 6,
    "start_time": "2024-09-10T20:39:58.660Z"
   },
   {
    "duration": 7,
    "start_time": "2024-09-10T20:40:58.652Z"
   },
   {
    "duration": 166,
    "start_time": "2024-09-10T21:08:33.094Z"
   },
   {
    "duration": 2601,
    "start_time": "2024-09-10T21:08:40.776Z"
   },
   {
    "duration": 428,
    "start_time": "2024-09-10T21:08:43.379Z"
   },
   {
    "duration": 9,
    "start_time": "2024-09-10T21:08:43.808Z"
   },
   {
    "duration": 13,
    "start_time": "2024-09-10T21:08:43.820Z"
   },
   {
    "duration": 44,
    "start_time": "2024-09-10T21:08:43.834Z"
   },
   {
    "duration": 8,
    "start_time": "2024-09-10T21:08:43.880Z"
   },
   {
    "duration": 9,
    "start_time": "2024-09-10T21:08:43.890Z"
   },
   {
    "duration": 7,
    "start_time": "2024-09-10T21:08:43.900Z"
   },
   {
    "duration": 7,
    "start_time": "2024-09-10T21:08:43.908Z"
   },
   {
    "duration": 6,
    "start_time": "2024-09-10T21:08:43.919Z"
   },
   {
    "duration": 44,
    "start_time": "2024-09-10T21:08:43.926Z"
   },
   {
    "duration": 10,
    "start_time": "2024-09-10T21:08:43.972Z"
   },
   {
    "duration": 38,
    "start_time": "2024-09-10T21:08:43.984Z"
   },
   {
    "duration": 5,
    "start_time": "2024-09-10T21:08:44.024Z"
   },
   {
    "duration": 21,
    "start_time": "2024-09-10T21:08:44.031Z"
   },
   {
    "duration": 34,
    "start_time": "2024-09-10T21:08:44.053Z"
   },
   {
    "duration": 165,
    "start_time": "2024-09-10T21:08:44.088Z"
   },
   {
    "duration": 16,
    "start_time": "2024-09-10T21:08:44.255Z"
   },
   {
    "duration": 68,
    "start_time": "2024-09-10T21:08:44.273Z"
   },
   {
    "duration": 5,
    "start_time": "2024-09-10T21:08:44.343Z"
   },
   {
    "duration": 3,
    "start_time": "2024-09-10T21:08:44.350Z"
   },
   {
    "duration": 73,
    "start_time": "2024-09-10T21:08:44.355Z"
   },
   {
    "duration": 10,
    "start_time": "2024-09-10T21:08:44.430Z"
   },
   {
    "duration": 30,
    "start_time": "2024-09-10T21:08:44.441Z"
   },
   {
    "duration": 10,
    "start_time": "2024-09-10T21:08:44.473Z"
   },
   {
    "duration": 28,
    "start_time": "2024-09-10T21:08:44.484Z"
   },
   {
    "duration": 3,
    "start_time": "2024-09-10T21:08:44.514Z"
   },
   {
    "duration": 3,
    "start_time": "2024-09-10T21:08:44.521Z"
   },
   {
    "duration": 4,
    "start_time": "2024-09-10T21:08:44.526Z"
   },
   {
    "duration": 38,
    "start_time": "2024-09-10T21:08:44.532Z"
   },
   {
    "duration": 4,
    "start_time": "2024-09-10T21:08:44.571Z"
   },
   {
    "duration": 123,
    "start_time": "2024-09-10T21:08:51.146Z"
   },
   {
    "duration": 3,
    "start_time": "2024-09-10T21:09:29.535Z"
   },
   {
    "duration": 254,
    "start_time": "2024-09-10T21:11:16.854Z"
   },
   {
    "duration": 117,
    "start_time": "2024-09-10T21:12:36.919Z"
   },
   {
    "duration": 95,
    "start_time": "2024-09-10T21:17:51.910Z"
   },
   {
    "duration": 91,
    "start_time": "2024-09-10T21:18:32.670Z"
   },
   {
    "duration": 132,
    "start_time": "2024-09-10T21:19:12.950Z"
   },
   {
    "duration": 20,
    "start_time": "2024-09-10T21:20:37.370Z"
   },
   {
    "duration": 22,
    "start_time": "2024-09-10T21:22:07.927Z"
   },
   {
    "duration": 32,
    "start_time": "2024-09-10T21:24:22.830Z"
   },
   {
    "duration": 44,
    "start_time": "2024-09-10T21:25:22.391Z"
   },
   {
    "duration": 46,
    "start_time": "2024-09-10T21:25:42.192Z"
   },
   {
    "duration": 4,
    "start_time": "2024-09-10T21:33:22.510Z"
   },
   {
    "duration": 93,
    "start_time": "2024-09-10T21:34:54.831Z"
   },
   {
    "duration": 2578,
    "start_time": "2024-09-11T20:43:49.118Z"
   },
   {
    "duration": 533,
    "start_time": "2024-09-11T20:43:51.700Z"
   },
   {
    "duration": 9,
    "start_time": "2024-09-11T20:43:52.235Z"
   },
   {
    "duration": 14,
    "start_time": "2024-09-11T20:43:52.246Z"
   },
   {
    "duration": 45,
    "start_time": "2024-09-11T20:43:52.262Z"
   },
   {
    "duration": 27,
    "start_time": "2024-09-11T20:43:52.309Z"
   },
   {
    "duration": 9,
    "start_time": "2024-09-11T20:43:52.337Z"
   },
   {
    "duration": 7,
    "start_time": "2024-09-11T20:43:52.348Z"
   },
   {
    "duration": 7,
    "start_time": "2024-09-11T20:43:52.357Z"
   },
   {
    "duration": 7,
    "start_time": "2024-09-11T20:43:52.367Z"
   },
   {
    "duration": 6,
    "start_time": "2024-09-11T20:43:52.375Z"
   },
   {
    "duration": 11,
    "start_time": "2024-09-11T20:43:52.382Z"
   },
   {
    "duration": 41,
    "start_time": "2024-09-11T20:43:52.432Z"
   },
   {
    "duration": 5,
    "start_time": "2024-09-11T20:43:52.477Z"
   },
   {
    "duration": 5,
    "start_time": "2024-09-11T20:43:52.484Z"
   },
   {
    "duration": 48,
    "start_time": "2024-09-11T20:43:52.491Z"
   },
   {
    "duration": 169,
    "start_time": "2024-09-11T20:43:52.541Z"
   },
   {
    "duration": 8,
    "start_time": "2024-09-11T20:43:52.711Z"
   },
   {
    "duration": 69,
    "start_time": "2024-09-11T20:43:52.730Z"
   },
   {
    "duration": 5,
    "start_time": "2024-09-11T20:43:52.801Z"
   },
   {
    "duration": 5,
    "start_time": "2024-09-11T20:43:52.807Z"
   },
   {
    "duration": 76,
    "start_time": "2024-09-11T20:43:52.813Z"
   },
   {
    "duration": 10,
    "start_time": "2024-09-11T20:43:52.891Z"
   },
   {
    "duration": 9,
    "start_time": "2024-09-11T20:43:52.902Z"
   },
   {
    "duration": 10,
    "start_time": "2024-09-11T20:43:52.932Z"
   },
   {
    "duration": 29,
    "start_time": "2024-09-11T20:43:52.944Z"
   },
   {
    "duration": 4,
    "start_time": "2024-09-11T20:43:52.974Z"
   },
   {
    "duration": 17,
    "start_time": "2024-09-11T20:43:52.980Z"
   },
   {
    "duration": 4,
    "start_time": "2024-09-11T20:43:52.998Z"
   },
   {
    "duration": 3,
    "start_time": "2024-09-11T20:43:53.004Z"
   },
   {
    "duration": 4,
    "start_time": "2024-09-11T20:43:53.031Z"
   },
   {
    "duration": 3,
    "start_time": "2024-09-11T20:43:53.037Z"
   },
   {
    "duration": 149,
    "start_time": "2024-09-11T20:43:53.042Z"
   },
   {
    "duration": 107,
    "start_time": "2024-09-11T20:43:53.193Z"
   },
   {
    "duration": 101,
    "start_time": "2024-09-11T20:43:53.302Z"
   },
   {
    "duration": 5,
    "start_time": "2024-09-11T20:43:53.404Z"
   },
   {
    "duration": 4,
    "start_time": "2024-09-11T20:43:53.411Z"
   },
   {
    "duration": 257,
    "start_time": "2024-09-11T20:43:53.416Z"
   },
   {
    "duration": 16,
    "start_time": "2024-09-11T20:43:53.676Z"
   },
   {
    "duration": 126,
    "start_time": "2024-09-11T20:43:53.694Z"
   },
   {
    "duration": 139,
    "start_time": "2024-09-11T20:43:53.825Z"
   },
   {
    "duration": 23,
    "start_time": "2024-09-11T20:43:53.965Z"
   },
   {
    "duration": 57,
    "start_time": "2024-09-11T20:43:53.991Z"
   },
   {
    "duration": 169,
    "start_time": "2024-09-12T16:32:38.070Z"
   },
   {
    "duration": 2518,
    "start_time": "2024-09-12T16:32:52.977Z"
   },
   {
    "duration": 425,
    "start_time": "2024-09-12T16:32:55.498Z"
   },
   {
    "duration": 9,
    "start_time": "2024-09-12T16:32:55.925Z"
   },
   {
    "duration": 13,
    "start_time": "2024-09-12T16:32:55.936Z"
   },
   {
    "duration": 41,
    "start_time": "2024-09-12T16:32:55.951Z"
   },
   {
    "duration": 8,
    "start_time": "2024-09-12T16:32:55.994Z"
   },
   {
    "duration": 8,
    "start_time": "2024-09-12T16:32:56.004Z"
   },
   {
    "duration": 6,
    "start_time": "2024-09-12T16:32:56.013Z"
   },
   {
    "duration": 7,
    "start_time": "2024-09-12T16:32:56.021Z"
   },
   {
    "duration": 6,
    "start_time": "2024-09-12T16:32:56.029Z"
   },
   {
    "duration": 5,
    "start_time": "2024-09-12T16:32:56.036Z"
   },
   {
    "duration": 49,
    "start_time": "2024-09-12T16:32:56.043Z"
   },
   {
    "duration": 40,
    "start_time": "2024-09-12T16:32:56.093Z"
   },
   {
    "duration": 5,
    "start_time": "2024-09-12T16:32:56.136Z"
   },
   {
    "duration": 4,
    "start_time": "2024-09-12T16:32:56.143Z"
   },
   {
    "duration": 51,
    "start_time": "2024-09-12T16:32:56.149Z"
   },
   {
    "duration": 152,
    "start_time": "2024-09-12T16:32:56.203Z"
   },
   {
    "duration": 8,
    "start_time": "2024-09-12T16:32:56.357Z"
   },
   {
    "duration": 78,
    "start_time": "2024-09-12T16:32:56.367Z"
   },
   {
    "duration": 4,
    "start_time": "2024-09-12T16:32:56.447Z"
   },
   {
    "duration": 3,
    "start_time": "2024-09-12T16:32:56.453Z"
   },
   {
    "duration": 71,
    "start_time": "2024-09-12T16:32:56.458Z"
   },
   {
    "duration": 10,
    "start_time": "2024-09-12T16:32:56.530Z"
   },
   {
    "duration": 9,
    "start_time": "2024-09-12T16:32:56.542Z"
   },
   {
    "duration": 10,
    "start_time": "2024-09-12T16:32:56.552Z"
   },
   {
    "duration": 28,
    "start_time": "2024-09-12T16:32:56.587Z"
   },
   {
    "duration": 3,
    "start_time": "2024-09-12T16:32:56.617Z"
   },
   {
    "duration": 4,
    "start_time": "2024-09-12T16:32:56.622Z"
   },
   {
    "duration": 4,
    "start_time": "2024-09-12T16:32:56.628Z"
   },
   {
    "duration": 2,
    "start_time": "2024-09-12T16:32:56.635Z"
   },
   {
    "duration": 4,
    "start_time": "2024-09-12T16:32:56.638Z"
   },
   {
    "duration": 3,
    "start_time": "2024-09-12T16:32:56.643Z"
   },
   {
    "duration": 409,
    "start_time": "2024-09-12T16:33:03.780Z"
   },
   {
    "duration": 87,
    "start_time": "2024-09-12T16:40:28.174Z"
   },
   {
    "duration": 3,
    "start_time": "2024-09-12T16:40:46.302Z"
   },
   {
    "duration": 328,
    "start_time": "2024-09-12T16:40:46.308Z"
   },
   {
    "duration": 8,
    "start_time": "2024-09-12T16:40:46.638Z"
   },
   {
    "duration": 14,
    "start_time": "2024-09-12T16:40:46.648Z"
   },
   {
    "duration": 58,
    "start_time": "2024-09-12T16:40:46.664Z"
   },
   {
    "duration": 9,
    "start_time": "2024-09-12T16:40:46.724Z"
   },
   {
    "duration": 6,
    "start_time": "2024-09-12T16:40:46.736Z"
   },
   {
    "duration": 6,
    "start_time": "2024-09-12T16:40:46.744Z"
   },
   {
    "duration": 9,
    "start_time": "2024-09-12T16:40:46.752Z"
   },
   {
    "duration": 29,
    "start_time": "2024-09-12T16:40:46.762Z"
   },
   {
    "duration": 5,
    "start_time": "2024-09-12T16:40:46.793Z"
   },
   {
    "duration": 11,
    "start_time": "2024-09-12T16:40:46.800Z"
   },
   {
    "duration": 38,
    "start_time": "2024-09-12T16:40:46.813Z"
   },
   {
    "duration": 34,
    "start_time": "2024-09-12T16:40:46.858Z"
   },
   {
    "duration": 5,
    "start_time": "2024-09-12T16:40:46.894Z"
   },
   {
    "duration": 22,
    "start_time": "2024-09-12T16:40:46.901Z"
   },
   {
    "duration": 163,
    "start_time": "2024-09-12T16:40:46.925Z"
   },
   {
    "duration": 8,
    "start_time": "2024-09-12T16:40:47.090Z"
   },
   {
    "duration": 63,
    "start_time": "2024-09-12T16:40:47.101Z"
   },
   {
    "duration": 20,
    "start_time": "2024-09-12T16:40:47.166Z"
   },
   {
    "duration": 4,
    "start_time": "2024-09-12T16:40:47.188Z"
   },
   {
    "duration": 58,
    "start_time": "2024-09-12T16:40:47.194Z"
   },
   {
    "duration": 11,
    "start_time": "2024-09-12T16:40:47.253Z"
   },
   {
    "duration": 9,
    "start_time": "2024-09-12T16:40:47.286Z"
   },
   {
    "duration": 9,
    "start_time": "2024-09-12T16:40:47.297Z"
   },
   {
    "duration": 27,
    "start_time": "2024-09-12T16:40:47.308Z"
   },
   {
    "duration": 4,
    "start_time": "2024-09-12T16:40:47.336Z"
   },
   {
    "duration": 4,
    "start_time": "2024-09-12T16:40:47.341Z"
   },
   {
    "duration": 4,
    "start_time": "2024-09-12T16:40:47.346Z"
   },
   {
    "duration": 34,
    "start_time": "2024-09-12T16:40:47.352Z"
   },
   {
    "duration": 3,
    "start_time": "2024-09-12T16:40:47.388Z"
   },
   {
    "duration": 3,
    "start_time": "2024-09-12T16:40:47.393Z"
   },
   {
    "duration": 434,
    "start_time": "2024-09-12T16:40:47.398Z"
   },
   {
    "duration": 113,
    "start_time": "2024-09-12T16:40:47.834Z"
   },
   {
    "duration": 166,
    "start_time": "2024-09-12T16:40:47.949Z"
   },
   {
    "duration": 6,
    "start_time": "2024-09-12T16:40:48.117Z"
   },
   {
    "duration": 5,
    "start_time": "2024-09-12T16:40:48.127Z"
   },
   {
    "duration": 284,
    "start_time": "2024-09-12T16:40:48.134Z"
   },
   {
    "duration": 25,
    "start_time": "2024-09-12T16:40:48.420Z"
   },
   {
    "duration": 142,
    "start_time": "2024-09-12T16:40:51.704Z"
   },
   {
    "duration": 20,
    "start_time": "2024-09-12T16:45:11.049Z"
   },
   {
    "duration": 3,
    "start_time": "2024-09-12T16:45:18.354Z"
   },
   {
    "duration": 328,
    "start_time": "2024-09-12T16:45:18.360Z"
   },
   {
    "duration": 7,
    "start_time": "2024-09-12T16:45:18.689Z"
   },
   {
    "duration": 13,
    "start_time": "2024-09-12T16:45:18.698Z"
   },
   {
    "duration": 40,
    "start_time": "2024-09-12T16:45:18.714Z"
   },
   {
    "duration": 31,
    "start_time": "2024-09-12T16:45:18.756Z"
   },
   {
    "duration": 7,
    "start_time": "2024-09-12T16:45:18.788Z"
   },
   {
    "duration": 6,
    "start_time": "2024-09-12T16:45:18.797Z"
   },
   {
    "duration": 7,
    "start_time": "2024-09-12T16:45:18.804Z"
   },
   {
    "duration": 6,
    "start_time": "2024-09-12T16:45:18.812Z"
   },
   {
    "duration": 5,
    "start_time": "2024-09-12T16:45:18.820Z"
   },
   {
    "duration": 11,
    "start_time": "2024-09-12T16:45:18.826Z"
   },
   {
    "duration": 75,
    "start_time": "2024-09-12T16:45:18.838Z"
   },
   {
    "duration": 6,
    "start_time": "2024-09-12T16:45:18.917Z"
   },
   {
    "duration": 5,
    "start_time": "2024-09-12T16:45:18.925Z"
   },
   {
    "duration": 21,
    "start_time": "2024-09-12T16:45:18.931Z"
   },
   {
    "duration": 169,
    "start_time": "2024-09-12T16:45:18.954Z"
   },
   {
    "duration": 8,
    "start_time": "2024-09-12T16:45:19.125Z"
   },
   {
    "duration": 76,
    "start_time": "2024-09-12T16:45:19.134Z"
   },
   {
    "duration": 4,
    "start_time": "2024-09-12T16:45:19.211Z"
   },
   {
    "duration": 6,
    "start_time": "2024-09-12T16:45:19.217Z"
   },
   {
    "duration": 70,
    "start_time": "2024-09-12T16:45:19.224Z"
   },
   {
    "duration": 10,
    "start_time": "2024-09-12T16:45:19.296Z"
   },
   {
    "duration": 9,
    "start_time": "2024-09-12T16:45:19.308Z"
   },
   {
    "duration": 9,
    "start_time": "2024-09-12T16:45:19.318Z"
   },
   {
    "duration": 26,
    "start_time": "2024-09-12T16:45:19.330Z"
   },
   {
    "duration": 3,
    "start_time": "2024-09-12T16:45:19.358Z"
   },
   {
    "duration": 4,
    "start_time": "2024-09-12T16:45:19.387Z"
   },
   {
    "duration": 3,
    "start_time": "2024-09-12T16:45:19.393Z"
   },
   {
    "duration": 3,
    "start_time": "2024-09-12T16:45:19.398Z"
   },
   {
    "duration": 3,
    "start_time": "2024-09-12T16:45:19.402Z"
   },
   {
    "duration": 4,
    "start_time": "2024-09-12T16:45:19.408Z"
   },
   {
    "duration": 425,
    "start_time": "2024-09-12T16:45:19.414Z"
   },
   {
    "duration": 103,
    "start_time": "2024-09-12T16:45:19.841Z"
   },
   {
    "duration": 94,
    "start_time": "2024-09-12T16:45:19.946Z"
   },
   {
    "duration": 10,
    "start_time": "2024-09-12T16:45:20.041Z"
   },
   {
    "duration": 5,
    "start_time": "2024-09-12T16:45:20.054Z"
   },
   {
    "duration": 316,
    "start_time": "2024-09-12T16:45:20.061Z"
   },
   {
    "duration": 18,
    "start_time": "2024-09-12T16:45:20.379Z"
   },
   {
    "duration": 155,
    "start_time": "2024-09-12T16:45:20.399Z"
   },
   {
    "duration": 17,
    "start_time": "2024-09-12T16:45:28.611Z"
   },
   {
    "duration": 110,
    "start_time": "2024-09-12T16:47:08.826Z"
   },
   {
    "duration": 147,
    "start_time": "2024-09-12T16:47:26.189Z"
   }
  ],
  "kernelspec": {
   "display_name": "Python 3 (ipykernel)",
   "language": "python",
   "name": "python3"
  },
  "language_info": {
   "codemirror_mode": {
    "name": "ipython",
    "version": 3
   },
   "file_extension": ".py",
   "mimetype": "text/x-python",
   "name": "python",
   "nbconvert_exporter": "python",
   "pygments_lexer": "ipython3",
   "version": "3.9.19"
  },
  "toc": {
   "base_numbering": 1,
   "nav_menu": {},
   "number_sections": true,
   "sideBar": true,
   "skip_h1_title": true,
   "title_cell": "Table of Contents",
   "title_sidebar": "Contents",
   "toc_cell": false,
   "toc_position": {},
   "toc_section_display": true,
   "toc_window_display": false
  }
 },
 "nbformat": 4,
 "nbformat_minor": 2
}
